{
 "cells": [
  {
   "cell_type": "markdown",
   "metadata": {},
   "source": [
    "# <div align= 'center'> <FONT COLOR='GREEN'>RASTGELE ORMAN"
   ]
  },
  {
   "cell_type": "markdown",
   "metadata": {},
   "source": [
    "# <div align='center'> Odev \n",
    "    \n",
    "**İkinci proje olan regresyon projesinde ve üçüncü proje olan sınıflandırma projesinde kullandığınız veri kümelerini tekrar kullanarak, Rastgele Orman ile regresyon ve sınıflandırma modelleri oluşturun ve bu modeller için en uygun parametre değerlerini belirleyin. En ideal parametreyi bulmak için daha önceki bölümde öğrendiğiniz çapraz doğrulama metodlarını kullanabilirsiniz.**"
   ]
  },
  {
   "cell_type": "markdown",
   "metadata": {},
   "source": [
    "Rastgele Orman algoritması ise birden fazla makine öğrenme modelini içermektedir. Rastgele Orman gibi, güçlü modeller oluşturmak için birden fazla makine öğrenimi algoritmasının kullanıldığı metotlara ensemble metotlar denmektedir. \n",
    "\n",
    "# <font color= 'red'> 1. Ensemble Metotlar\n",
    "    \n",
    "Ensemble metotlar, aynı veri kümesi üzerinde farklı modellerin eğitilmesini sağlamaktadır. Her model kendi tahminini yapmakta ve tahminlerin birleşiminden bir meta-model oluşmaktadır. Böylece en başarılı tahmini yapan güçlü bir model oluşturulur.\n",
    "Esemble Methodlar 3é ayrilir. \n",
    "* Stacking\n",
    "* Bagging\n",
    "* Boosting\n",
    "\n",
    "\n",
    "## 1.1. Stacking\n",
    "Aynı veri kümesinde farklı algoritmalar kullanarak bir meta-model oluşturma yöntemidir. Bu yöntem için sklearn kütüpanesinin ensemble modülünde yer alan **VotingClassifier** algoritmasını kullanabilirsiniz.\n",
    "\n",
    "## 1.2. Boosting\n",
    "Aynı veri kümesinde oluşturulan zayıf algoritmaların hatalarını dikkate alınarak, iterasyonlarla güçlü bir model oluşturma yöntemidir. Boosting metotlarını ileri ki derslerde çok daha detaylı inceleyeceğiz.\n",
    "\n",
    "## 1.3. Bagging\n",
    "Bagging \"bootstrap aggregation\" ifadesinin yerine kullanılmaktadır. Bootstrap'i ise bir veri kümesindeki değerleri kullanarak yeni bir örnek veri kümesi oluşturulması olarak tanımlayabiliriz.\n",
    "\n",
    "Bagging yöntemi ile sınıflandırma ve regresyon modelleri oluşturmak için sklearn kütüpanesinin ensemble modülünde yer alan **BaggingClassifier** ve **BaggingRegressor** algoritmalarını kullanabilirsiniz.\n",
    "\n",
    "**Stacking yönteminde aynı veri kümesi farklı algoritmalarda eğitilirken, bagging yöntemlerde de veri kümesinden oluşturulmuş birden fazla alt veri kümesi, aynı algoritma ile eğitilmektedir. Eğitilen bu farklı veri kümeleri ile nihai bir model oluşturulur. Bu model oluşturulurken sınıflandırma problemlerinde oylama yapılırken, regresyon problemlerinde ise ortalama alınmaktadır.**"
   ]
  },
  {
   "cell_type": "markdown",
   "metadata": {},
   "source": [
    "# <font color='red'>2. Rastgele Orman\n",
    "Ensemble metotlarına kısaca baktıktan sonra dersimizin asıl konusu olan Rastgele Orman'a gelebilriz. Rastgele Orman ana algoritma olarak Karar Ağacının kullanıldığı bir bagging metodur.\n",
    "\n",
    "Rastgele orman, çok fazla koşulun olduğu durumlarda düşük varyans ile yüksek kesinlik sağladığı için veri bilimciler arasında oldukça popülerdir.\n",
    "\n",
    "Karar ağaçları gibi, rastgele ormanlar da sınıflandırma ve regresyon problemleri için kullanılabilir.\n",
    "\n",
    "*Rastgele orman oluşturuken ormanda kaç ağaç olacağı önemli bir kriterdir. Bunun için de n_estimators parametresini kullanacağız. Bu parametreyi 10 olarak belirlediğimizde birbirinden farklı 10 karar ağacı oluşturulacaktır.*\n",
    "\n",
    "Sınıflandırma problemlerinde nihai tahmini yapabilmek için oylama yapıldığını belrtmiştik. Burada kullanılan oylama tekniği soft voting yöntemidir. Aslında oylamadan ziyade tahmin ihtimalinin ortalamasının alınmasıdır. Her ağaç sınıflar için bir tahmin ihtimali belirler ve ortalama tahmin ihtimali en yüksek olan sınıf seçilir."
   ]
  },
  {
   "cell_type": "code",
   "execution_count": 1,
   "metadata": {},
   "outputs": [],
   "source": [
    "import pandas as pd\n",
    "import matplotlib.pyplot as plt \n",
    "import numpy as np\n",
    "from sklearn.model_selection import train_test_split"
   ]
  },
  {
   "cell_type": "code",
   "execution_count": 2,
   "metadata": {},
   "outputs": [],
   "source": [
    "df1 = pd.read_csv('data/LifeExpectancy.csv', index_col=0)"
   ]
  },
  {
   "cell_type": "code",
   "execution_count": 3,
   "metadata": {},
   "outputs": [],
   "source": [
    "df2 = pd.read_csv('data/wine.csv')\n",
    "df2.type= df2.type.map({'white':1, 'red':0})"
   ]
  },
  {
   "cell_type": "code",
   "execution_count": 4,
   "metadata": {},
   "outputs": [],
   "source": [
    "X_test, X_train, y_test, y_train = train_test_split(df2.drop('quality_range', axis=1), df2.quality_range, random_state=40, test_size=0.2)"
   ]
  },
  {
   "cell_type": "code",
   "execution_count": 5,
   "metadata": {},
   "outputs": [
    {
     "data": {
      "text/plain": [
       "RandomForestClassifier(bootstrap=True, class_weight=None, criterion='gini',\n",
       "            max_depth=None, max_features='auto', max_leaf_nodes=None,\n",
       "            min_impurity_decrease=0.0, min_impurity_split=None,\n",
       "            min_samples_leaf=1, min_samples_split=2,\n",
       "            min_weight_fraction_leaf=0.0, n_estimators=5, n_jobs=None,\n",
       "            oob_score=False, random_state=40, verbose=0, warm_start=False)"
      ]
     },
     "execution_count": 5,
     "metadata": {},
     "output_type": "execute_result"
    }
   ],
   "source": [
    "from sklearn.ensemble import RandomForestClassifier\n",
    "\n",
    "\n",
    "rastgele_orman = RandomForestClassifier(n_estimators=5, random_state=40)\n",
    "rastgele_orman.fit(X_train, y_train) "
   ]
  },
  {
   "cell_type": "markdown",
   "metadata": {},
   "source": [
    "Modelimizin doğruluk değerine bakalım."
   ]
  },
  {
   "cell_type": "code",
   "execution_count": 6,
   "metadata": {},
   "outputs": [
    {
     "name": "stdout",
     "output_type": "stream",
     "text": [
      "Rastgele Orman Doğruluk Değeri : 0.74\n"
     ]
    }
   ],
   "source": [
    "from sklearn.metrics import accuracy_score\n",
    "\n",
    "\n",
    "y_tahmin_ro = rastgele_orman.predict(X_test)\n",
    "print(\"Rastgele Orman Doğruluk Değeri : {:.2f}\".format(accuracy_score(y_test, y_tahmin_ro)))"
   ]
  },
  {
   "cell_type": "code",
   "execution_count": 7,
   "metadata": {},
   "outputs": [
    {
     "data": {
      "image/png": "[encoded data removed]",
      "text/plain": [
       "<Figure size 432x288 with 1 Axes>"
      ]
     },
     "metadata": {
      "needs_background": "light"
     },
     "output_type": "display_data"
    }
   ],
   "source": [
    "önem_dereceleri = pd.Series(data=rastgele_orman.feature_importances_,\n",
    "                        index= X_train.columns)\n",
    "\n",
    "önem_dereceleri_sıralı = önem_dereceleri.sort_values()\n",
    "\n",
    "önem_dereceleri_sıralı.plot(kind='barh', color='darkblue')\n",
    "plt.title('Değişkenlerin Önem Dereceleri')\n",
    "plt.show()"
   ]
  },
  {
   "cell_type": "markdown",
   "metadata": {},
   "source": [
    "Modelimiz en önemli değişken olarak bilet ücretini belirledi."
   ]
  },
  {
   "cell_type": "markdown",
   "metadata": {},
   "source": [
    "## 2.4. Rastgele Orman ile Regresyon\n",
    "\n",
    "Rastgele Orman ile sınıflandırma yapmak için sklearn kütüphanesinin ensemble modülünde yeralan RandomForestRegressorı kullanmaktayız."
   ]
  },
  {
   "cell_type": "code",
   "execution_count": 8,
   "metadata": {},
   "outputs": [
    {
     "data": {
      "text/plain": [
       "RandomForestRegressor(bootstrap=True, criterion='mse', max_depth=None,\n",
       "           max_features='auto', max_leaf_nodes=None,\n",
       "           min_impurity_decrease=0.0, min_impurity_split=None,\n",
       "           min_samples_leaf=1, min_samples_split=2,\n",
       "           min_weight_fraction_leaf=0.0, n_estimators=5, n_jobs=None,\n",
       "           oob_score=False, random_state=40, verbose=0, warm_start=False)"
      ]
     },
     "execution_count": 8,
     "metadata": {},
     "output_type": "execute_result"
    }
   ],
   "source": [
    "#Modelimizi eğitelim.\n",
    "\n",
    "from sklearn.ensemble import RandomForestRegressor\n",
    "\n",
    "\n",
    "rastgele_orman = RandomForestRegressor(n_estimators=5, random_state=40)\n",
    "rastgele_orman.fit(X_train, y_train) "
   ]
  },
  {
   "cell_type": "code",
   "execution_count": 9,
   "metadata": {},
   "outputs": [],
   "source": [
    "from sklearn.model_selection import cross_val_score"
   ]
  },
  {
   "cell_type": "code",
   "execution_count": 10,
   "metadata": {},
   "outputs": [
    {
     "name": "stdout",
     "output_type": "stream",
     "text": [
      "cv = 3 ---> Ortalama çarpraz doğrulama skoru :  0.18031213831941126\n",
      "cv = 5 ---> Ortalama çarpraz doğrulama skoru :  0.18548313953875484\n",
      "cv = 8 ---> Ortalama çarpraz doğrulama skoru :  0.19042104220925476\n",
      "cv = 10 ---> Ortalama çarpraz doğrulama skoru :  0.1858100277470207\n"
     ]
    }
   ],
   "source": [
    "cv_score3 = cross_val_score(rastgele_orman,X_train,y_train,cv=3)\n",
    "print('cv = 3 ---> Ortalama çarpraz doğrulama skoru : ', np.mean(cv_score3))\n",
    "\n",
    "cv_score5 = cross_val_score(rastgele_orman,X_train,y_train,cv=5)\n",
    "print('cv = 5 ---> Ortalama çarpraz doğrulama skoru : ', np.mean(cv_score5))\n",
    "\n",
    "cv_score8 = cross_val_score(rastgele_orman,X_train,y_train,cv=8)\n",
    "print('cv = 8 ---> Ortalama çarpraz doğrulama skoru : ', np.mean(cv_score8))\n",
    "\n",
    "cv_score10 = cross_val_score(rastgele_orman,X_train,y_train,cv=20)\n",
    "print('cv = 10 ---> Ortalama çarpraz doğrulama skoru : ', np.mean(cv_score10))"
   ]
  },
  {
   "cell_type": "code",
   "execution_count": 11,
   "metadata": {},
   "outputs": [],
   "source": [
    "from sklearn.model_selection import cross_validate"
   ]
  },
  {
   "cell_type": "code",
   "execution_count": 12,
   "metadata": {},
   "outputs": [],
   "source": [
    "cv_score8 = cross_validate(rastgele_orman, X_train, y_train, cv=8)"
   ]
  },
  {
   "cell_type": "code",
   "execution_count": 13,
   "metadata": {},
   "outputs": [
    {
     "name": "stdout",
     "output_type": "stream",
     "text": [
      "RMSE değeri (Rastgele Orman): 0.44\n"
     ]
    }
   ],
   "source": [
    "#Modelimizi eğittik artık test edebiliriz.\n",
    "\n",
    "from sklearn.metrics import mean_squared_error as MSE\n",
    "\n",
    "\n",
    "y_tahmin = rastgele_orman.predict(X_test)\n",
    "rmse_test = MSE(y_test, y_tahmin)**(1/2)\n",
    "print(\"RMSE değeri (Rastgele Orman): {:.2f}\".format(rmse_test))\n",
    "\n",
    "\n",
    "#Ilk deger olan 0.44 cv degeri ile secip model olusturmamla degismedi"
   ]
  },
  {
   "cell_type": "code",
   "execution_count": 14,
   "metadata": {},
   "outputs": [
    {
     "name": "stdout",
     "output_type": "stream",
     "text": [
      "RMSE değeri (Karar Ağacı): 0.44\n"
     ]
    }
   ],
   "source": [
    "from sklearn.tree import DecisionTreeRegressor\n",
    "karar_agacı_reg = DecisionTreeRegressor(max_depth=4, random_state=40)\n",
    "karar_agacı_reg.fit(X_train, y_train)\n",
    "\n",
    "y_tahmin = karar_agacı_reg.predict(X_test)\n",
    "rmse_test = MSE(y_test, y_tahmin)**(1/2)\n",
    "print(\"RMSE değeri (Karar Ağacı): {:.2f}\".format(rmse_test))\n",
    "\n",
    "#Ilk deger olan 0.44 cv degeri ile secip model olusturmamla degismedi"
   ]
  },
  {
   "cell_type": "code",
   "execution_count": 15,
   "metadata": {},
   "outputs": [
    {
     "data": {
      "image/png": "[encoded data removed]",
      "text/plain": [
       "<Figure size 432x288 with 1 Axes>"
      ]
     },
     "metadata": {
      "needs_background": "light"
     },
     "output_type": "display_data"
    }
   ],
   "source": [
    "önem_dereceleri = pd.Series(data=rastgele_orman.feature_importances_,\n",
    "                        index= X_train.columns)\n",
    "\n",
    "önem_dereceleri_sıralı = önem_dereceleri.sort_values()\n",
    "\n",
    "önem_dereceleri_sıralı.plot(kind='barh', color='darkred')\n",
    "plt.title('Değişkenlerin Önem Dereceleri')\n",
    "plt.show()"
   ]
  },
  {
   "cell_type": "markdown",
   "metadata": {},
   "source": [
    "##### Life Expectancy Data ile"
   ]
  },
  {
   "cell_type": "code",
   "execution_count": 16,
   "metadata": {},
   "outputs": [],
   "source": [
    "X_test, X_train, y_test, y_train = train_test_split(df1.drop('Life_Expectancy', axis=1), df1.Life_Expectancy, random_state=40, test_size=0.2)"
   ]
  },
  {
   "cell_type": "code",
   "execution_count": 17,
   "metadata": {},
   "outputs": [
    {
     "data": {
      "text/plain": [
       "RandomForestRegressor(bootstrap=True, criterion='mse', max_depth=None,\n",
       "           max_features='auto', max_leaf_nodes=None,\n",
       "           min_impurity_decrease=0.0, min_impurity_split=None,\n",
       "           min_samples_leaf=1, min_samples_split=2,\n",
       "           min_weight_fraction_leaf=0.0, n_estimators=5, n_jobs=None,\n",
       "           oob_score=False, random_state=40, verbose=0, warm_start=False)"
      ]
     },
     "execution_count": 17,
     "metadata": {},
     "output_type": "execute_result"
    }
   ],
   "source": [
    "rastgele_orman = RandomForestRegressor(n_estimators=5, random_state=40)\n",
    "rastgele_orman.fit(X_train, y_train)"
   ]
  },
  {
   "cell_type": "code",
   "execution_count": 18,
   "metadata": {},
   "outputs": [
    {
     "name": "stdout",
     "output_type": "stream",
     "text": [
      "RMSE değeri (Rastgele Orman): 2.84\n"
     ]
    }
   ],
   "source": [
    "y_tahmin = rastgele_orman.predict(X_test)\n",
    "rmse_test = MSE(y_test, y_tahmin)**(1/2)\n",
    "print(\"RMSE değeri (Rastgele Orman): {:.2f}\".format(rmse_test))"
   ]
  },
  {
   "cell_type": "code",
   "execution_count": 19,
   "metadata": {},
   "outputs": [
    {
     "name": "stdout",
     "output_type": "stream",
     "text": [
      "RMSE değeri (Karar Ağacı): 3.58\n"
     ]
    }
   ],
   "source": [
    "karar_agacı_reg = DecisionTreeRegressor(max_depth=4, random_state=40)\n",
    "karar_agacı_reg.fit(X_train, y_train)\n",
    "\n",
    "y_tahmin = karar_agacı_reg.predict(X_test)\n",
    "rmse_test = MSE(y_test, y_tahmin)**(1/2)\n",
    "print(\"RMSE değeri (Karar Ağacı): {:.2f}\".format(rmse_test))"
   ]
  },
  {
   "cell_type": "code",
   "execution_count": 20,
   "metadata": {},
   "outputs": [
    {
     "data": {
      "image/png": "[encoded data removed]",
      "text/plain": [
       "<Figure size 432x288 with 1 Axes>"
      ]
     },
     "metadata": {
      "needs_background": "light"
     },
     "output_type": "display_data"
    }
   ],
   "source": [
    "önem_dereceleri = pd.Series(data=rastgele_orman.feature_importances_,\n",
    "                        index= X_train.columns)\n",
    "\n",
    "önem_dereceleri_sıralı = önem_dereceleri.sort_values()\n",
    "\n",
    "önem_dereceleri_sıralı.plot(kind='barh', color='darkred')\n",
    "plt.title('Değişkenlerin Önem Dereceleri')\n",
    "plt.show()"
   ]
  },
  {
   "cell_type": "code",
   "execution_count": null,
   "metadata": {},
   "outputs": [],
   "source": []
  }
 ],
 "metadata": {
  "kernelspec": {
   "display_name": "Python 3",
   "language": "python",
   "name": "python3"
  },
  "language_info": {
   "codemirror_mode": {
    "name": "ipython",
    "version": 3
   },
   "file_extension": ".py",
   "mimetype": "text/x-python",
   "name": "python",
   "nbconvert_exporter": "python",
   "pygments_lexer": "ipython3",
   "version": "3.7.1"
  }
 },
 "nbformat": 4,
 "nbformat_minor": 2
}
