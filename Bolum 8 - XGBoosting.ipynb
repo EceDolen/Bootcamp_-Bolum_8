{
 "cells": [
  {
   "cell_type": "markdown",
   "metadata": {},
   "source": [
    "# <div align = 'center'> <font color='red'> BOLUM 8\n",
    "#  <div align = 'center'> <font color='red'>                           XGBOOSTING"
   ]
  },
  {
   "cell_type": "code",
   "execution_count": 1,
   "metadata": {},
   "outputs": [],
   "source": [
    "import pandas as pd"
   ]
  },
  {
   "cell_type": "code",
   "execution_count": 2,
   "metadata": {},
   "outputs": [],
   "source": [
    "import xgboost as xgb\n",
    "import warnings\n",
    "warnings.filterwarnings('ignore')"
   ]
  },
  {
   "cell_type": "code",
   "execution_count": 3,
   "metadata": {},
   "outputs": [],
   "source": [
    "df = pd.read_csv('data/LifeExpectancy.csv', index_col=0)"
   ]
  },
  {
   "cell_type": "code",
   "execution_count": 4,
   "metadata": {},
   "outputs": [],
   "source": [
    "df2 = pd.read_csv('data/Wine.csv')\n",
    "df2.type =  df2.type.map({'white':0, 'red':1} )"
   ]
  },
  {
   "cell_type": "code",
   "execution_count": 5,
   "metadata": {},
   "outputs": [
    {
     "data": {
      "text/html": [
       "<div>\n",
       "<style scoped>\n",
       "    .dataframe tbody tr th:only-of-type {\n",
       "        vertical-align: middle;\n",
       "    }\n",
       "\n",
       "    .dataframe tbody tr th {\n",
       "        vertical-align: top;\n",
       "    }\n",
       "\n",
       "    .dataframe thead th {\n",
       "        text-align: right;\n",
       "    }\n",
       "</style>\n",
       "<table border=\"1\" class=\"dataframe\">\n",
       "  <thead>\n",
       "    <tr style=\"text-align: right;\">\n",
       "      <th></th>\n",
       "      <th>Unnamed: 0</th>\n",
       "      <th>type</th>\n",
       "      <th>fixed_acidity</th>\n",
       "      <th>volatile_acidity</th>\n",
       "      <th>citric_acid</th>\n",
       "      <th>residual_sugar</th>\n",
       "      <th>chlorides</th>\n",
       "      <th>free_sulfur_dioxide</th>\n",
       "      <th>total_sulfur_dioxide</th>\n",
       "      <th>density</th>\n",
       "      <th>pH</th>\n",
       "      <th>sulphates</th>\n",
       "      <th>alcohol</th>\n",
       "      <th>quality_range</th>\n",
       "    </tr>\n",
       "  </thead>\n",
       "  <tbody>\n",
       "    <tr>\n",
       "      <th>0</th>\n",
       "      <td>0</td>\n",
       "      <td>0</td>\n",
       "      <td>7.0</td>\n",
       "      <td>0.27</td>\n",
       "      <td>0.36</td>\n",
       "      <td>17.2</td>\n",
       "      <td>0.045</td>\n",
       "      <td>45.0</td>\n",
       "      <td>170.0</td>\n",
       "      <td>1.001</td>\n",
       "      <td>3.0</td>\n",
       "      <td>0.45</td>\n",
       "      <td>8.8</td>\n",
       "      <td>1</td>\n",
       "    </tr>\n",
       "  </tbody>\n",
       "</table>\n",
       "</div>"
      ],
      "text/plain": [
       "   Unnamed: 0  type  fixed_acidity  volatile_acidity  citric_acid  \\\n",
       "0           0     0            7.0              0.27         0.36   \n",
       "\n",
       "   residual_sugar  chlorides  free_sulfur_dioxide  total_sulfur_dioxide  \\\n",
       "0            17.2      0.045                 45.0                 170.0   \n",
       "\n",
       "   density   pH  sulphates  alcohol  quality_range  \n",
       "0    1.001  3.0       0.45      8.8              1  "
      ]
     },
     "execution_count": 5,
     "metadata": {},
     "output_type": "execute_result"
    }
   ],
   "source": [
    "df2.head(1)"
   ]
  },
  {
   "cell_type": "markdown",
   "metadata": {},
   "source": [
    "## 1. XGBoost ile Sınıflandırma (xgb.DMatrix)"
   ]
  },
  {
   "cell_type": "code",
   "execution_count": 6,
   "metadata": {},
   "outputs": [],
   "source": [
    "X = df.drop('Life_Expectancy', axis=1)\n",
    "y = df.Life_Expectancy"
   ]
  },
  {
   "cell_type": "code",
   "execution_count": 83,
   "metadata": {},
   "outputs": [],
   "source": [
    "X = df2.drop('quality_range', axis=1)\n",
    "y = df2.quality_range\n"
   ]
  },
  {
   "cell_type": "code",
   "execution_count": 8,
   "metadata": {},
   "outputs": [],
   "source": [
    "#Lifed_matrix = xgb.DMatrix(data = X, label=y)"
   ]
  },
  {
   "cell_type": "code",
   "execution_count": 84,
   "metadata": {},
   "outputs": [],
   "source": [
    "wine_dmatrix = xgb.DMatrix(data = X, label=y)"
   ]
  },
  {
   "cell_type": "markdown",
   "metadata": {},
   "source": [
    "Modelimizi oluşturuken kullancağımız parametreleri belirliyoruz. XGBoost parametreleri içinde en önemlilerinden bir tanesi objective paramatresidir. Bu parametre ile modelimizin hata fonksiyonu olarak ne kullanacağını belirtiyoruz.\n",
    "\n",
    "Regresyon problemlerinde reg:linear\n",
    "Sınıflandırma modellerinde ise, tahmin edilen sınıf için reg-logistic, tahmin ihtimali için ise binary:logistic ifadesi kullanılır."
   ]
  },
  {
   "cell_type": "code",
   "execution_count": 85,
   "metadata": {},
   "outputs": [
    {
     "name": "stdout",
     "output_type": "stream",
     "text": [
      "Dataset has 6497 entries and 14 features\n"
     ]
    }
   ],
   "source": [
    "print(\"Dataset has {} entries and {} features\".format(*df2.shape))"
   ]
  },
  {
   "cell_type": "code",
   "execution_count": 86,
   "metadata": {},
   "outputs": [],
   "source": [
    "X_train, X_test, y_train, y_test = train_test_split(X, y, test_size=0.2, random_state=40)"
   ]
  },
  {
   "cell_type": "code",
   "execution_count": 87,
   "metadata": {},
   "outputs": [],
   "source": [
    "dtrain = xgb.DMatrix(X_train, label=y_train)\n",
    "dtest = xgb.DMatrix(X_test, label=y_test)"
   ]
  },
  {
   "cell_type": "markdown",
   "metadata": {},
   "source": [
    "**Building a baseline model**\n",
    "We are going to use mean absolute error (MAE) to evaluate the quality of our predictions. MAE is a common and simple metric that has the advantage of being in the same unit as our target, which means it can be compared to target values and easily interpreted. You can compute MAE by summing the absolute errors between your predictions and the true values of the target and averaging over all observations."
   ]
  },
  {
   "cell_type": "code",
   "execution_count": 88,
   "metadata": {},
   "outputs": [],
   "source": [
    "from sklearn.metrics import mean_absolute_error"
   ]
  },
  {
   "cell_type": "markdown",
   "metadata": {},
   "source": [
    "In order to get an idea of the range of MAE we would like to achieve here, we are going to build a baseline model, and save its score for later. This score is what we can achieve with no efforts, so we hope we will beat it with our fancy algorithm.\n",
    "For our baseline, we will keep things simple and predict that each new post will get the mean number of comments that we observed in the training set."
   ]
  },
  {
   "cell_type": "code",
   "execution_count": 89,
   "metadata": {},
   "outputs": [
    {
     "name": "stdout",
     "output_type": "stream",
     "text": [
      "Baseline MAE is 0.46\n"
     ]
    }
   ],
   "source": [
    "# \"Learn\" the mean from the training data\n",
    "mean_train = np.mean(y_train)\n",
    "\n",
    "# Get predictions on the test set\n",
    "baseline_predictions = np.ones(y_test.shape) * mean_train\n",
    "\n",
    "# Compute MAE\n",
    "mae_baseline = mean_absolute_error(y_test, baseline_predictions)\n",
    "print(\"Baseline MAE is {:.2f}\".format(mae_baseline))\n"
   ]
  },
  {
   "cell_type": "code",
   "execution_count": 90,
   "metadata": {},
   "outputs": [
    {
     "data": {
      "text/plain": [
       "0.6324802770829324"
      ]
     },
     "execution_count": 90,
     "metadata": {},
     "output_type": "execute_result"
    }
   ],
   "source": [
    "mean_train"
   ]
  },
  {
   "cell_type": "code",
   "execution_count": 91,
   "metadata": {},
   "outputs": [
    {
     "data": {
      "text/plain": [
       "array([0.63248028, 0.63248028, 0.63248028, ..., 0.63248028, 0.63248028,\n",
       "       0.63248028])"
      ]
     },
     "execution_count": 91,
     "metadata": {},
     "output_type": "execute_result"
    }
   ],
   "source": [
    "baseline_predictions"
   ]
  },
  {
   "cell_type": "markdown",
   "metadata": {},
   "source": [
    "That is, the prediction is, on average, 0.46 quality range off from the actual number of quality of wine. Is that good???"
   ]
  },
  {
   "cell_type": "code",
   "execution_count": null,
   "metadata": {},
   "outputs": [],
   "source": [
    "params['eval_metric'] = \"mae\""
   ]
  },
  {
   "cell_type": "code",
   "execution_count": 97,
   "metadata": {},
   "outputs": [
    {
     "name": "stdout",
     "output_type": "stream",
     "text": [
      "[20:43:03] WARNING: C:/Jenkins/workspace/xgboost-win64_release_0.90/src/objective/regression_obj.cu:152: reg:linear is now deprecated in favor of reg:squarederror.\n",
      "[0]\tTest-rmse:0.477073\n",
      "Will train until Test-rmse hasn't improved in 10 rounds.\n",
      "[1]\tTest-rmse:0.473784\n",
      "[2]\tTest-rmse:0.471346\n",
      "[3]\tTest-rmse:0.469107\n",
      "[4]\tTest-rmse:0.466994\n",
      "[5]\tTest-rmse:0.465022\n",
      "[6]\tTest-rmse:0.463198\n",
      "[7]\tTest-rmse:0.461519\n",
      "[8]\tTest-rmse:0.459976\n",
      "[9]\tTest-rmse:0.458556\n",
      "[10]\tTest-rmse:0.457248\n",
      "[11]\tTest-rmse:0.45604\n",
      "[12]\tTest-rmse:0.454924\n",
      "[13]\tTest-rmse:0.45389\n",
      "[14]\tTest-rmse:0.452931\n",
      "[15]\tTest-rmse:0.45204\n",
      "[16]\tTest-rmse:0.45121\n",
      "[17]\tTest-rmse:0.450437\n",
      "[18]\tTest-rmse:0.449716\n",
      "[19]\tTest-rmse:0.449042\n",
      "[20]\tTest-rmse:0.448412\n",
      "[21]\tTest-rmse:0.447821\n",
      "[22]\tTest-rmse:0.447266\n",
      "[23]\tTest-rmse:0.446745\n",
      "[24]\tTest-rmse:0.446254\n",
      "[25]\tTest-rmse:0.445792\n",
      "[26]\tTest-rmse:0.445355\n",
      "[27]\tTest-rmse:0.444943\n",
      "[28]\tTest-rmse:0.444552\n",
      "[29]\tTest-rmse:0.444182\n",
      "[30]\tTest-rmse:0.44383\n",
      "[31]\tTest-rmse:0.443496\n",
      "[32]\tTest-rmse:0.443178\n",
      "[33]\tTest-rmse:0.442875\n",
      "[34]\tTest-rmse:0.442586\n",
      "[35]\tTest-rmse:0.442309\n",
      "[36]\tTest-rmse:0.442044\n",
      "[37]\tTest-rmse:0.441791\n",
      "[38]\tTest-rmse:0.441547\n",
      "[39]\tTest-rmse:0.441313\n",
      "[40]\tTest-rmse:0.441088\n",
      "[41]\tTest-rmse:0.440872\n",
      "[42]\tTest-rmse:0.440663\n",
      "[43]\tTest-rmse:0.440461\n",
      "[44]\tTest-rmse:0.440266\n",
      "[45]\tTest-rmse:0.440078\n",
      "[46]\tTest-rmse:0.439895\n",
      "[47]\tTest-rmse:0.439718\n",
      "[48]\tTest-rmse:0.439546\n",
      "[49]\tTest-rmse:0.43938\n",
      "[50]\tTest-rmse:0.439218\n",
      "[51]\tTest-rmse:0.43906\n",
      "[52]\tTest-rmse:0.438906\n",
      "[53]\tTest-rmse:0.438756\n",
      "[54]\tTest-rmse:0.43861\n",
      "[55]\tTest-rmse:0.438468\n",
      "[56]\tTest-rmse:0.438328\n",
      "[57]\tTest-rmse:0.438192\n",
      "[58]\tTest-rmse:0.438058\n",
      "[59]\tTest-rmse:0.437928\n",
      "[60]\tTest-rmse:0.4378\n",
      "[61]\tTest-rmse:0.437674\n",
      "[62]\tTest-rmse:0.437551\n",
      "[63]\tTest-rmse:0.43743\n",
      "[64]\tTest-rmse:0.437311\n",
      "[65]\tTest-rmse:0.437194\n",
      "[66]\tTest-rmse:0.437079\n",
      "[67]\tTest-rmse:0.436966\n",
      "[68]\tTest-rmse:0.436855\n",
      "[69]\tTest-rmse:0.436745\n",
      "[70]\tTest-rmse:0.436637\n",
      "[71]\tTest-rmse:0.436531\n",
      "[72]\tTest-rmse:0.436426\n",
      "[73]\tTest-rmse:0.436322\n",
      "[74]\tTest-rmse:0.436219\n",
      "[75]\tTest-rmse:0.436118\n",
      "[76]\tTest-rmse:0.436018\n",
      "[77]\tTest-rmse:0.43592\n",
      "[78]\tTest-rmse:0.435822\n",
      "[79]\tTest-rmse:0.435726\n",
      "[80]\tTest-rmse:0.43563\n",
      "[81]\tTest-rmse:0.435536\n",
      "[82]\tTest-rmse:0.435442\n",
      "[83]\tTest-rmse:0.43535\n",
      "[84]\tTest-rmse:0.435258\n",
      "[85]\tTest-rmse:0.435168\n",
      "[86]\tTest-rmse:0.435078\n",
      "[87]\tTest-rmse:0.434989\n",
      "[88]\tTest-rmse:0.4349\n",
      "[89]\tTest-rmse:0.434813\n",
      "[90]\tTest-rmse:0.434726\n",
      "[91]\tTest-rmse:0.43464\n",
      "[92]\tTest-rmse:0.434555\n",
      "[93]\tTest-rmse:0.43447\n",
      "[94]\tTest-rmse:0.434386\n",
      "[95]\tTest-rmse:0.434303\n",
      "[96]\tTest-rmse:0.43422\n",
      "[97]\tTest-rmse:0.434138\n",
      "[98]\tTest-rmse:0.434056\n",
      "[99]\tTest-rmse:0.433975\n",
      "[100]\tTest-rmse:0.433895\n",
      "[101]\tTest-rmse:0.433815\n",
      "[102]\tTest-rmse:0.433736\n",
      "[103]\tTest-rmse:0.433657\n",
      "[104]\tTest-rmse:0.433579\n",
      "[105]\tTest-rmse:0.433501\n",
      "[106]\tTest-rmse:0.433424\n",
      "[107]\tTest-rmse:0.433347\n",
      "[108]\tTest-rmse:0.433271\n",
      "[109]\tTest-rmse:0.433196\n",
      "[110]\tTest-rmse:0.43312\n",
      "[111]\tTest-rmse:0.433046\n",
      "[112]\tTest-rmse:0.432971\n",
      "[113]\tTest-rmse:0.432897\n",
      "[114]\tTest-rmse:0.432824\n",
      "[115]\tTest-rmse:0.432751\n",
      "[116]\tTest-rmse:0.432679\n",
      "[117]\tTest-rmse:0.432606\n",
      "[118]\tTest-rmse:0.432535\n",
      "[119]\tTest-rmse:0.432463\n",
      "[120]\tTest-rmse:0.432393\n",
      "[121]\tTest-rmse:0.432322\n",
      "[122]\tTest-rmse:0.432252\n",
      "[123]\tTest-rmse:0.432182\n",
      "[124]\tTest-rmse:0.432113\n",
      "[125]\tTest-rmse:0.432044\n",
      "[126]\tTest-rmse:0.431976\n",
      "[127]\tTest-rmse:0.431908\n",
      "[128]\tTest-rmse:0.43184\n",
      "[129]\tTest-rmse:0.431773\n",
      "[130]\tTest-rmse:0.431706\n",
      "[131]\tTest-rmse:0.431639\n",
      "[132]\tTest-rmse:0.431573\n",
      "[133]\tTest-rmse:0.431507\n",
      "[134]\tTest-rmse:0.431441\n",
      "[135]\tTest-rmse:0.431376\n",
      "[136]\tTest-rmse:0.431311\n",
      "[137]\tTest-rmse:0.431247\n",
      "[138]\tTest-rmse:0.431183\n",
      "[139]\tTest-rmse:0.431119\n",
      "[140]\tTest-rmse:0.431055\n",
      "[141]\tTest-rmse:0.430992\n",
      "[142]\tTest-rmse:0.430929\n",
      "[143]\tTest-rmse:0.430867\n",
      "[144]\tTest-rmse:0.430805\n",
      "[145]\tTest-rmse:0.430743\n",
      "[146]\tTest-rmse:0.430682\n",
      "[147]\tTest-rmse:0.430621\n",
      "[148]\tTest-rmse:0.43056\n",
      "[149]\tTest-rmse:0.430499\n",
      "[150]\tTest-rmse:0.430439\n",
      "[151]\tTest-rmse:0.430379\n",
      "[152]\tTest-rmse:0.43032\n",
      "[153]\tTest-rmse:0.430261\n",
      "[154]\tTest-rmse:0.430202\n",
      "[155]\tTest-rmse:0.430143\n",
      "[156]\tTest-rmse:0.430085\n",
      "[157]\tTest-rmse:0.430027\n",
      "[158]\tTest-rmse:0.42997\n",
      "[159]\tTest-rmse:0.429912\n",
      "[160]\tTest-rmse:0.429855\n",
      "[161]\tTest-rmse:0.429799\n",
      "[162]\tTest-rmse:0.429742\n",
      "[163]\tTest-rmse:0.429686\n",
      "[164]\tTest-rmse:0.42963\n",
      "[165]\tTest-rmse:0.429575\n",
      "[166]\tTest-rmse:0.42952\n",
      "[167]\tTest-rmse:0.429465\n",
      "[168]\tTest-rmse:0.42941\n",
      "[169]\tTest-rmse:0.429356\n",
      "[170]\tTest-rmse:0.429302\n",
      "[171]\tTest-rmse:0.429248\n",
      "[172]\tTest-rmse:0.429195\n",
      "[173]\tTest-rmse:0.429142\n",
      "[174]\tTest-rmse:0.429089\n",
      "[175]\tTest-rmse:0.429036\n",
      "[176]\tTest-rmse:0.428984\n",
      "[177]\tTest-rmse:0.428932\n",
      "[178]\tTest-rmse:0.428881\n",
      "[179]\tTest-rmse:0.428829\n",
      "[180]\tTest-rmse:0.428778\n",
      "[181]\tTest-rmse:0.428727\n",
      "[182]\tTest-rmse:0.428677\n",
      "[183]\tTest-rmse:0.428626\n",
      "[184]\tTest-rmse:0.428576\n",
      "[185]\tTest-rmse:0.428526\n",
      "[186]\tTest-rmse:0.428477\n",
      "[187]\tTest-rmse:0.428428\n",
      "[188]\tTest-rmse:0.428379\n",
      "[189]\tTest-rmse:0.42833\n",
      "[190]\tTest-rmse:0.428282\n",
      "[191]\tTest-rmse:0.428233\n",
      "[192]\tTest-rmse:0.428186\n",
      "[193]\tTest-rmse:0.428138\n",
      "[194]\tTest-rmse:0.428091\n",
      "[195]\tTest-rmse:0.428043\n",
      "[196]\tTest-rmse:0.427997\n",
      "[197]\tTest-rmse:0.42795\n",
      "[198]\tTest-rmse:0.427904\n",
      "[199]\tTest-rmse:0.427858\n",
      "[200]\tTest-rmse:0.427812\n",
      "[201]\tTest-rmse:0.427766\n",
      "[202]\tTest-rmse:0.427721\n",
      "[203]\tTest-rmse:0.427676\n",
      "[204]\tTest-rmse:0.427631\n",
      "[205]\tTest-rmse:0.427587\n",
      "[206]\tTest-rmse:0.427542\n",
      "[207]\tTest-rmse:0.427498\n",
      "[208]\tTest-rmse:0.427454\n",
      "[209]\tTest-rmse:0.427411\n",
      "[210]\tTest-rmse:0.427367\n",
      "[211]\tTest-rmse:0.427324\n",
      "[212]\tTest-rmse:0.427281\n",
      "[213]\tTest-rmse:0.427239\n",
      "[214]\tTest-rmse:0.427197\n",
      "[215]\tTest-rmse:0.427154\n",
      "[216]\tTest-rmse:0.427112\n",
      "[217]\tTest-rmse:0.427071\n",
      "[218]\tTest-rmse:0.427029\n",
      "[219]\tTest-rmse:0.426988\n",
      "[220]\tTest-rmse:0.426947\n",
      "[221]\tTest-rmse:0.426906\n",
      "[222]\tTest-rmse:0.426866\n",
      "[223]\tTest-rmse:0.426826\n",
      "[224]\tTest-rmse:0.426786\n",
      "[225]\tTest-rmse:0.426746\n",
      "[226]\tTest-rmse:0.426706\n",
      "[227]\tTest-rmse:0.426667\n",
      "[228]\tTest-rmse:0.426628\n",
      "[229]\tTest-rmse:0.426589\n",
      "[230]\tTest-rmse:0.42655\n",
      "[231]\tTest-rmse:0.426511\n",
      "[232]\tTest-rmse:0.426473\n",
      "[233]\tTest-rmse:0.426435\n",
      "[234]\tTest-rmse:0.426397\n",
      "[235]\tTest-rmse:0.42636\n",
      "[236]\tTest-rmse:0.426322\n",
      "[237]\tTest-rmse:0.426285\n",
      "[238]\tTest-rmse:0.426248\n",
      "[239]\tTest-rmse:0.426211\n",
      "[240]\tTest-rmse:0.426175\n",
      "[241]\tTest-rmse:0.426138\n",
      "[242]\tTest-rmse:0.426102\n",
      "[243]\tTest-rmse:0.426066\n",
      "[244]\tTest-rmse:0.42603\n",
      "[245]\tTest-rmse:0.425995\n",
      "[246]\tTest-rmse:0.425959\n",
      "[247]\tTest-rmse:0.425924\n",
      "[248]\tTest-rmse:0.425889\n",
      "[249]\tTest-rmse:0.425855\n",
      "Best MAE: 0.43 with 250 rounds\n"
     ]
    }
   ],
   "source": [
    "model = xgb.train(\n",
    "    params,\n",
    "    dtrain,\n",
    "    num_boost_round=250,\n",
    "    evals=[(dtest, \"Test\")],\n",
    "    early_stopping_rounds=10\n",
    ")\n",
    "\n",
    "print(\"Best MAE: {:.2f} with {} rounds\".format(\n",
    "                 model.best_score,\n",
    "                 model.best_iteration+1))\n"
   ]
  },
  {
   "cell_type": "code",
   "execution_count": 107,
   "metadata": {},
   "outputs": [
    {
     "name": "stdout",
     "output_type": "stream",
     "text": [
      "[20:49:51] WARNING: C:/Jenkins/workspace/xgboost-win64_release_0.90/src/objective/regression_obj.cu:152: reg:linear is now deprecated in favor of reg:squarederror.\n",
      "[20:49:51] WARNING: C:/Jenkins/workspace/xgboost-win64_release_0.90/src/objective/regression_obj.cu:152: reg:linear is now deprecated in favor of reg:squarederror.\n",
      "[20:49:51] WARNING: C:/Jenkins/workspace/xgboost-win64_release_0.90/src/objective/regression_obj.cu:152: reg:linear is now deprecated in favor of reg:squarederror.\n",
      "[20:49:51] WARNING: C:/Jenkins/workspace/xgboost-win64_release_0.90/src/objective/regression_obj.cu:152: reg:linear is now deprecated in favor of reg:squarederror.\n",
      "[20:49:51] WARNING: C:/Jenkins/workspace/xgboost-win64_release_0.90/src/objective/regression_obj.cu:152: reg:linear is now deprecated in favor of reg:squarederror.\n"
     ]
    },
    {
     "data": {
      "text/html": [
       "<div>\n",
       "<style scoped>\n",
       "    .dataframe tbody tr th:only-of-type {\n",
       "        vertical-align: middle;\n",
       "    }\n",
       "\n",
       "    .dataframe tbody tr th {\n",
       "        vertical-align: top;\n",
       "    }\n",
       "\n",
       "    .dataframe thead th {\n",
       "        text-align: right;\n",
       "    }\n",
       "</style>\n",
       "<table border=\"1\" class=\"dataframe\">\n",
       "  <thead>\n",
       "    <tr style=\"text-align: right;\">\n",
       "      <th></th>\n",
       "      <th>train-mae-mean</th>\n",
       "      <th>train-mae-std</th>\n",
       "      <th>test-mae-mean</th>\n",
       "      <th>test-mae-std</th>\n",
       "    </tr>\n",
       "  </thead>\n",
       "  <tbody>\n",
       "    <tr>\n",
       "      <th>249</th>\n",
       "      <td>0.366344</td>\n",
       "      <td>0.001025</td>\n",
       "      <td>0.367196</td>\n",
       "      <td>0.003145</td>\n",
       "    </tr>\n",
       "    <tr>\n",
       "      <th>248</th>\n",
       "      <td>0.366390</td>\n",
       "      <td>0.001025</td>\n",
       "      <td>0.367242</td>\n",
       "      <td>0.003143</td>\n",
       "    </tr>\n",
       "    <tr>\n",
       "      <th>247</th>\n",
       "      <td>0.366436</td>\n",
       "      <td>0.001025</td>\n",
       "      <td>0.367287</td>\n",
       "      <td>0.003139</td>\n",
       "    </tr>\n",
       "    <tr>\n",
       "      <th>246</th>\n",
       "      <td>0.366482</td>\n",
       "      <td>0.001025</td>\n",
       "      <td>0.367333</td>\n",
       "      <td>0.003137</td>\n",
       "    </tr>\n",
       "    <tr>\n",
       "      <th>245</th>\n",
       "      <td>0.366529</td>\n",
       "      <td>0.001026</td>\n",
       "      <td>0.367378</td>\n",
       "      <td>0.003134</td>\n",
       "    </tr>\n",
       "    <tr>\n",
       "      <th>244</th>\n",
       "      <td>0.366576</td>\n",
       "      <td>0.001026</td>\n",
       "      <td>0.367425</td>\n",
       "      <td>0.003131</td>\n",
       "    </tr>\n",
       "    <tr>\n",
       "      <th>243</th>\n",
       "      <td>0.366623</td>\n",
       "      <td>0.001025</td>\n",
       "      <td>0.367471</td>\n",
       "      <td>0.003128</td>\n",
       "    </tr>\n",
       "    <tr>\n",
       "      <th>242</th>\n",
       "      <td>0.366670</td>\n",
       "      <td>0.001026</td>\n",
       "      <td>0.367518</td>\n",
       "      <td>0.003125</td>\n",
       "    </tr>\n",
       "    <tr>\n",
       "      <th>241</th>\n",
       "      <td>0.366718</td>\n",
       "      <td>0.001026</td>\n",
       "      <td>0.367565</td>\n",
       "      <td>0.003122</td>\n",
       "    </tr>\n",
       "    <tr>\n",
       "      <th>240</th>\n",
       "      <td>0.366766</td>\n",
       "      <td>0.001026</td>\n",
       "      <td>0.367612</td>\n",
       "      <td>0.003119</td>\n",
       "    </tr>\n",
       "    <tr>\n",
       "      <th>239</th>\n",
       "      <td>0.366814</td>\n",
       "      <td>0.001026</td>\n",
       "      <td>0.367659</td>\n",
       "      <td>0.003116</td>\n",
       "    </tr>\n",
       "    <tr>\n",
       "      <th>238</th>\n",
       "      <td>0.366862</td>\n",
       "      <td>0.001026</td>\n",
       "      <td>0.367707</td>\n",
       "      <td>0.003113</td>\n",
       "    </tr>\n",
       "    <tr>\n",
       "      <th>237</th>\n",
       "      <td>0.366910</td>\n",
       "      <td>0.001026</td>\n",
       "      <td>0.367755</td>\n",
       "      <td>0.003109</td>\n",
       "    </tr>\n",
       "    <tr>\n",
       "      <th>236</th>\n",
       "      <td>0.366959</td>\n",
       "      <td>0.001027</td>\n",
       "      <td>0.367803</td>\n",
       "      <td>0.003106</td>\n",
       "    </tr>\n",
       "    <tr>\n",
       "      <th>235</th>\n",
       "      <td>0.367009</td>\n",
       "      <td>0.001026</td>\n",
       "      <td>0.367852</td>\n",
       "      <td>0.003103</td>\n",
       "    </tr>\n",
       "    <tr>\n",
       "      <th>234</th>\n",
       "      <td>0.367058</td>\n",
       "      <td>0.001026</td>\n",
       "      <td>0.367901</td>\n",
       "      <td>0.003099</td>\n",
       "    </tr>\n",
       "    <tr>\n",
       "      <th>233</th>\n",
       "      <td>0.367108</td>\n",
       "      <td>0.001026</td>\n",
       "      <td>0.367950</td>\n",
       "      <td>0.003096</td>\n",
       "    </tr>\n",
       "    <tr>\n",
       "      <th>232</th>\n",
       "      <td>0.367158</td>\n",
       "      <td>0.001026</td>\n",
       "      <td>0.367999</td>\n",
       "      <td>0.003093</td>\n",
       "    </tr>\n",
       "    <tr>\n",
       "      <th>231</th>\n",
       "      <td>0.367208</td>\n",
       "      <td>0.001026</td>\n",
       "      <td>0.368049</td>\n",
       "      <td>0.003090</td>\n",
       "    </tr>\n",
       "    <tr>\n",
       "      <th>230</th>\n",
       "      <td>0.367259</td>\n",
       "      <td>0.001027</td>\n",
       "      <td>0.368099</td>\n",
       "      <td>0.003086</td>\n",
       "    </tr>\n",
       "  </tbody>\n",
       "</table>\n",
       "</div>"
      ],
      "text/plain": [
       "     train-mae-mean  train-mae-std  test-mae-mean  test-mae-std\n",
       "249        0.366344       0.001025       0.367196      0.003145\n",
       "248        0.366390       0.001025       0.367242      0.003143\n",
       "247        0.366436       0.001025       0.367287      0.003139\n",
       "246        0.366482       0.001025       0.367333      0.003137\n",
       "245        0.366529       0.001026       0.367378      0.003134\n",
       "244        0.366576       0.001026       0.367425      0.003131\n",
       "243        0.366623       0.001025       0.367471      0.003128\n",
       "242        0.366670       0.001026       0.367518      0.003125\n",
       "241        0.366718       0.001026       0.367565      0.003122\n",
       "240        0.366766       0.001026       0.367612      0.003119\n",
       "239        0.366814       0.001026       0.367659      0.003116\n",
       "238        0.366862       0.001026       0.367707      0.003113\n",
       "237        0.366910       0.001026       0.367755      0.003109\n",
       "236        0.366959       0.001027       0.367803      0.003106\n",
       "235        0.367009       0.001026       0.367852      0.003103\n",
       "234        0.367058       0.001026       0.367901      0.003099\n",
       "233        0.367108       0.001026       0.367950      0.003096\n",
       "232        0.367158       0.001026       0.367999      0.003093\n",
       "231        0.367208       0.001026       0.368049      0.003090\n",
       "230        0.367259       0.001027       0.368099      0.003086"
      ]
     },
     "execution_count": 107,
     "metadata": {},
     "output_type": "execute_result"
    }
   ],
   "source": [
    "cv_results = xgb.cv(\n",
    "    params,\n",
    "    dtrain,\n",
    "    num_boost_round=250,\n",
    "    seed=40,\n",
    "    nfold=5,\n",
    "    metrics={'mae'},\n",
    "    early_stopping_rounds=10\n",
    ")\n",
    "cv_results.sort_values(by='test-mae-mean', ascending=True).head(20)"
   ]
  },
  {
   "cell_type": "code",
   "execution_count": 105,
   "metadata": {},
   "outputs": [
    {
     "data": {
      "text/plain": [
       "0.36719620000000003"
      ]
     },
     "execution_count": 105,
     "metadata": {},
     "output_type": "execute_result"
    }
   ],
   "source": [
    "cv_results['test-mae-mean'].min()"
   ]
  },
  {
   "cell_type": "code",
   "execution_count": null,
   "metadata": {},
   "outputs": [],
   "source": []
  },
  {
   "cell_type": "code",
   "execution_count": null,
   "metadata": {},
   "outputs": [],
   "source": []
  },
  {
   "cell_type": "code",
   "execution_count": 10,
   "metadata": {},
   "outputs": [],
   "source": [
    "#params = {\"objective\":\"reg:logistic\", \"max_depth\":3, \"silent\":1}"
   ]
  },
  {
   "cell_type": "code",
   "execution_count": 79,
   "metadata": {},
   "outputs": [],
   "source": [
    "X_train, X_test, y_train, y_test = train_test_split(X, y, test_size=0.2, random_state=40)\n",
    "\n",
    "wine_dmatrix = xgb.DMatrix(data = X, label=y)"
   ]
  },
  {
   "cell_type": "code",
   "execution_count": 80,
   "metadata": {},
   "outputs": [],
   "source": [
    "params_class = {'colsample_bytree': [0.3, 0.7], \n",
    "                       'gamma': [0.001, 0.1], \n",
    "                       'learning_rate': [0.3], \n",
    "                       'max_depth': [3], \n",
    "                       'min_child_weight': [3], \n",
    "                       'n_estimators': [50],\n",
    "                       'silent':[1]\n",
    "                      }"
   ]
  },
  {
   "cell_type": "code",
   "execution_count": 81,
   "metadata": {},
   "outputs": [
    {
     "ename": "TypeError",
     "evalue": "estimator should be an estimator implementing 'fit' method, <xgboost.core.DMatrix object at 0x000002C754F21550> was passed",
     "output_type": "error",
     "traceback": [
      "\u001b[1;31m---------------------------------------------------------------------------\u001b[0m",
      "\u001b[1;31mTypeError\u001b[0m                                 Traceback (most recent call last)",
      "\u001b[1;32m<ipython-input-81-021035b9cb05>\u001b[0m in \u001b[0;36m<module>\u001b[1;34m\u001b[0m\n\u001b[0;32m      6\u001b[0m                        \u001b[0mcv\u001b[0m \u001b[1;33m=\u001b[0m \u001b[1;36m10\u001b[0m\u001b[1;33m\u001b[0m\u001b[1;33m\u001b[0m\u001b[0m\n\u001b[0;32m      7\u001b[0m                       )\n\u001b[1;32m----> 8\u001b[1;33m \u001b[0mgrid_cv\u001b[0m\u001b[1;33m.\u001b[0m\u001b[0mfit\u001b[0m\u001b[1;33m(\u001b[0m\u001b[0mX\u001b[0m\u001b[1;33m,\u001b[0m \u001b[0my\u001b[0m\u001b[1;33m)\u001b[0m\u001b[1;33m\u001b[0m\u001b[1;33m\u001b[0m\u001b[0m\n\u001b[0m",
      "\u001b[1;32m~\\Anaconda3\\lib\\site-packages\\sklearn\\model_selection\\_search.py\u001b[0m in \u001b[0;36mfit\u001b[1;34m(self, X, y, groups, **fit_params)\u001b[0m\n\u001b[0;32m    652\u001b[0m \u001b[1;33m\u001b[0m\u001b[0m\n\u001b[0;32m    653\u001b[0m         scorers, self.multimetric_ = _check_multimetric_scoring(\n\u001b[1;32m--> 654\u001b[1;33m             self.estimator, scoring=self.scoring)\n\u001b[0m\u001b[0;32m    655\u001b[0m \u001b[1;33m\u001b[0m\u001b[0m\n\u001b[0;32m    656\u001b[0m         \u001b[1;32mif\u001b[0m \u001b[0mself\u001b[0m\u001b[1;33m.\u001b[0m\u001b[0mmultimetric_\u001b[0m\u001b[1;33m:\u001b[0m\u001b[1;33m\u001b[0m\u001b[1;33m\u001b[0m\u001b[0m\n",
      "\u001b[1;32m~\\Anaconda3\\lib\\site-packages\\sklearn\\metrics\\scorer.py\u001b[0m in \u001b[0;36m_check_multimetric_scoring\u001b[1;34m(estimator, scoring)\u001b[0m\n\u001b[0;32m    341\u001b[0m     if callable(scoring) or scoring is None or isinstance(scoring,\n\u001b[0;32m    342\u001b[0m                                                           six.string_types):\n\u001b[1;32m--> 343\u001b[1;33m         \u001b[0mscorers\u001b[0m \u001b[1;33m=\u001b[0m \u001b[1;33m{\u001b[0m\u001b[1;34m\"score\"\u001b[0m\u001b[1;33m:\u001b[0m \u001b[0mcheck_scoring\u001b[0m\u001b[1;33m(\u001b[0m\u001b[0mestimator\u001b[0m\u001b[1;33m,\u001b[0m \u001b[0mscoring\u001b[0m\u001b[1;33m=\u001b[0m\u001b[0mscoring\u001b[0m\u001b[1;33m)\u001b[0m\u001b[1;33m}\u001b[0m\u001b[1;33m\u001b[0m\u001b[1;33m\u001b[0m\u001b[0m\n\u001b[0m\u001b[0;32m    344\u001b[0m         \u001b[1;32mreturn\u001b[0m \u001b[0mscorers\u001b[0m\u001b[1;33m,\u001b[0m \u001b[1;32mFalse\u001b[0m\u001b[1;33m\u001b[0m\u001b[1;33m\u001b[0m\u001b[0m\n\u001b[0;32m    345\u001b[0m     \u001b[1;32melse\u001b[0m\u001b[1;33m:\u001b[0m\u001b[1;33m\u001b[0m\u001b[1;33m\u001b[0m\u001b[0m\n",
      "\u001b[1;32m~\\Anaconda3\\lib\\site-packages\\sklearn\\metrics\\scorer.py\u001b[0m in \u001b[0;36mcheck_scoring\u001b[1;34m(estimator, scoring, allow_none)\u001b[0m\n\u001b[0;32m    269\u001b[0m     \u001b[1;32mif\u001b[0m \u001b[1;32mnot\u001b[0m \u001b[0mhasattr\u001b[0m\u001b[1;33m(\u001b[0m\u001b[0mestimator\u001b[0m\u001b[1;33m,\u001b[0m \u001b[1;34m'fit'\u001b[0m\u001b[1;33m)\u001b[0m\u001b[1;33m:\u001b[0m\u001b[1;33m\u001b[0m\u001b[1;33m\u001b[0m\u001b[0m\n\u001b[0;32m    270\u001b[0m         raise TypeError(\"estimator should be an estimator implementing \"\n\u001b[1;32m--> 271\u001b[1;33m                         \"'fit' method, %r was passed\" % estimator)\n\u001b[0m\u001b[0;32m    272\u001b[0m     \u001b[1;32mif\u001b[0m \u001b[0misinstance\u001b[0m\u001b[1;33m(\u001b[0m\u001b[0mscoring\u001b[0m\u001b[1;33m,\u001b[0m \u001b[0msix\u001b[0m\u001b[1;33m.\u001b[0m\u001b[0mstring_types\u001b[0m\u001b[1;33m)\u001b[0m\u001b[1;33m:\u001b[0m\u001b[1;33m\u001b[0m\u001b[1;33m\u001b[0m\u001b[0m\n\u001b[0;32m    273\u001b[0m         \u001b[1;32mreturn\u001b[0m \u001b[0mget_scorer\u001b[0m\u001b[1;33m(\u001b[0m\u001b[0mscoring\u001b[0m\u001b[1;33m)\u001b[0m\u001b[1;33m\u001b[0m\u001b[1;33m\u001b[0m\u001b[0m\n",
      "\u001b[1;31mTypeError\u001b[0m: estimator should be an estimator implementing 'fit' method, <xgboost.core.DMatrix object at 0x000002C754F21550> was passed"
     ]
    }
   ],
   "source": [
    "from sklearn.model_selection import GridSearchCV\n",
    "\n",
    "\n",
    "grid_cv = GridSearchCV(estimator=wine_dmatrix,\n",
    "                       param_grid = params_class,\n",
    "                       cv = 10\n",
    "                      )\n",
    "grid_cv.fit(X, y)"
   ]
  },
  {
   "cell_type": "code",
   "execution_count": null,
   "metadata": {},
   "outputs": [],
   "source": []
  },
  {
   "cell_type": "code",
   "execution_count": 11,
   "metadata": {},
   "outputs": [
    {
     "data": {
      "text/html": [
       "<div>\n",
       "<style scoped>\n",
       "    .dataframe tbody tr th:only-of-type {\n",
       "        vertical-align: middle;\n",
       "    }\n",
       "\n",
       "    .dataframe tbody tr th {\n",
       "        vertical-align: top;\n",
       "    }\n",
       "\n",
       "    .dataframe thead th {\n",
       "        text-align: right;\n",
       "    }\n",
       "</style>\n",
       "<table border=\"1\" class=\"dataframe\">\n",
       "  <thead>\n",
       "    <tr style=\"text-align: right;\">\n",
       "      <th></th>\n",
       "      <th>train-error-mean</th>\n",
       "      <th>train-error-std</th>\n",
       "      <th>test-error-mean</th>\n",
       "      <th>test-error-std</th>\n",
       "    </tr>\n",
       "  </thead>\n",
       "  <tbody>\n",
       "    <tr>\n",
       "      <th>0</th>\n",
       "      <td>0.262660</td>\n",
       "      <td>0.003347</td>\n",
       "      <td>0.271357</td>\n",
       "      <td>0.003454</td>\n",
       "    </tr>\n",
       "    <tr>\n",
       "      <th>1</th>\n",
       "      <td>0.256349</td>\n",
       "      <td>0.003424</td>\n",
       "      <td>0.266432</td>\n",
       "      <td>0.006400</td>\n",
       "    </tr>\n",
       "    <tr>\n",
       "      <th>2</th>\n",
       "      <td>0.251809</td>\n",
       "      <td>0.004661</td>\n",
       "      <td>0.263199</td>\n",
       "      <td>0.004990</td>\n",
       "    </tr>\n",
       "    <tr>\n",
       "      <th>3</th>\n",
       "      <td>0.250501</td>\n",
       "      <td>0.003417</td>\n",
       "      <td>0.264893</td>\n",
       "      <td>0.007354</td>\n",
       "    </tr>\n",
       "    <tr>\n",
       "      <th>4</th>\n",
       "      <td>0.244498</td>\n",
       "      <td>0.002306</td>\n",
       "      <td>0.261507</td>\n",
       "      <td>0.007842</td>\n",
       "    </tr>\n",
       "  </tbody>\n",
       "</table>\n",
       "</div>"
      ],
      "text/plain": [
       "   train-error-mean  train-error-std  test-error-mean  test-error-std\n",
       "0          0.262660         0.003347         0.271357        0.003454\n",
       "1          0.256349         0.003424         0.266432        0.006400\n",
       "2          0.251809         0.004661         0.263199        0.004990\n",
       "3          0.250501         0.003417         0.264893        0.007354\n",
       "4          0.244498         0.002306         0.261507        0.007842"
      ]
     },
     "metadata": {},
     "output_type": "display_data"
    }
   ],
   "source": [
    "df2_cv = xgb.cv(dtrain=wine_dmatrix, params=params, nfold=3, \n",
    "                    num_boost_round=5, metrics=\"error\", as_pandas=True, seed=123)\n",
    "display(df2_cv)"
   ]
  },
  {
   "cell_type": "markdown",
   "metadata": {},
   "source": [
    "xgb.cv fonksiyonunda değerlendirme metriği olarak hata oranı (\"error\") tanımladık. as_pandas parametresini True olarak belirttiğimiz için sonuç olarak test ve eğitim verileri için hata oranını ve hata oranının standart sapmasını veri çerçevesi olarak döndürdü. Hata değerini 1'den çıkararak doğruluk (accuracy) değerini bulabiliriz."
   ]
  },
  {
   "cell_type": "code",
   "execution_count": 13,
   "metadata": {},
   "outputs": [
    {
     "name": "stdout",
     "output_type": "stream",
     "text": [
      "Doğruluk Değeri : 0.738\n"
     ]
    }
   ],
   "source": [
    "print('Doğruluk Değeri : {:.3f}'.format((1-df2_cv[\"test-error-mean\"]).max()))"
   ]
  },
  {
   "cell_type": "markdown",
   "metadata": {},
   "source": [
    "Modelimiz 5 iterasyon sonunda en 0.738 gibi bir duğruluk değerine ulaştı.\n",
    "\n",
    "Modelimizin performansını AUC skoru ile de değerlendirebiliriz."
   ]
  },
  {
   "cell_type": "code",
   "execution_count": 14,
   "metadata": {},
   "outputs": [
    {
     "data": {
      "text/html": [
       "<div>\n",
       "<style scoped>\n",
       "    .dataframe tbody tr th:only-of-type {\n",
       "        vertical-align: middle;\n",
       "    }\n",
       "\n",
       "    .dataframe tbody tr th {\n",
       "        vertical-align: top;\n",
       "    }\n",
       "\n",
       "    .dataframe thead th {\n",
       "        text-align: right;\n",
       "    }\n",
       "</style>\n",
       "<table border=\"1\" class=\"dataframe\">\n",
       "  <thead>\n",
       "    <tr style=\"text-align: right;\">\n",
       "      <th></th>\n",
       "      <th>train-auc-mean</th>\n",
       "      <th>train-auc-std</th>\n",
       "      <th>test-auc-mean</th>\n",
       "      <th>test-auc-std</th>\n",
       "    </tr>\n",
       "  </thead>\n",
       "  <tbody>\n",
       "    <tr>\n",
       "      <th>0</th>\n",
       "      <td>0.786421</td>\n",
       "      <td>0.004296</td>\n",
       "      <td>0.768510</td>\n",
       "      <td>0.005279</td>\n",
       "    </tr>\n",
       "    <tr>\n",
       "      <th>1</th>\n",
       "      <td>0.803147</td>\n",
       "      <td>0.001637</td>\n",
       "      <td>0.787364</td>\n",
       "      <td>0.005780</td>\n",
       "    </tr>\n",
       "    <tr>\n",
       "      <th>2</th>\n",
       "      <td>0.812467</td>\n",
       "      <td>0.002649</td>\n",
       "      <td>0.796505</td>\n",
       "      <td>0.002184</td>\n",
       "    </tr>\n",
       "    <tr>\n",
       "      <th>3</th>\n",
       "      <td>0.817142</td>\n",
       "      <td>0.002379</td>\n",
       "      <td>0.800257</td>\n",
       "      <td>0.000868</td>\n",
       "    </tr>\n",
       "    <tr>\n",
       "      <th>4</th>\n",
       "      <td>0.822573</td>\n",
       "      <td>0.000661</td>\n",
       "      <td>0.802156</td>\n",
       "      <td>0.003129</td>\n",
       "    </tr>\n",
       "  </tbody>\n",
       "</table>\n",
       "</div>"
      ],
      "text/plain": [
       "   train-auc-mean  train-auc-std  test-auc-mean  test-auc-std\n",
       "0        0.786421       0.004296       0.768510      0.005279\n",
       "1        0.803147       0.001637       0.787364      0.005780\n",
       "2        0.812467       0.002649       0.796505      0.002184\n",
       "3        0.817142       0.002379       0.800257      0.000868\n",
       "4        0.822573       0.000661       0.802156      0.003129"
      ]
     },
     "metadata": {},
     "output_type": "display_data"
    },
    {
     "name": "stdout",
     "output_type": "stream",
     "text": [
      "AUC Skoru : 0.802\n"
     ]
    }
   ],
   "source": [
    "wine_auc = xgb.cv(dtrain=wine_dmatrix, params=params, nfold=3, \n",
    "                    num_boost_round=5, metrics=\"auc\", as_pandas=True, seed=123)\n",
    "display(wine_auc)\n",
    "print('AUC Skoru : {:.3f}'.format(wine_auc[\"test-auc-mean\"].max()))\n"
   ]
  },
  {
   "cell_type": "code",
   "execution_count": null,
   "metadata": {},
   "outputs": [],
   "source": []
  },
  {
   "cell_type": "code",
   "execution_count": null,
   "metadata": {},
   "outputs": [],
   "source": []
  },
  {
   "cell_type": "code",
   "execution_count": null,
   "metadata": {},
   "outputs": [],
   "source": []
  },
  {
   "cell_type": "code",
   "execution_count": null,
   "metadata": {},
   "outputs": [],
   "source": []
  },
  {
   "cell_type": "code",
   "execution_count": null,
   "metadata": {},
   "outputs": [],
   "source": []
  },
  {
   "cell_type": "code",
   "execution_count": null,
   "metadata": {},
   "outputs": [],
   "source": []
  },
  {
   "cell_type": "markdown",
   "metadata": {},
   "source": [
    "## 2. XGBoost ile Regresyon (XGBRegressor)"
   ]
  },
  {
   "cell_type": "code",
   "execution_count": 15,
   "metadata": {
    "scrolled": true
   },
   "outputs": [
    {
     "data": {
      "text/html": [
       "<div>\n",
       "<style scoped>\n",
       "    .dataframe tbody tr th:only-of-type {\n",
       "        vertical-align: middle;\n",
       "    }\n",
       "\n",
       "    .dataframe tbody tr th {\n",
       "        vertical-align: top;\n",
       "    }\n",
       "\n",
       "    .dataframe thead th {\n",
       "        text-align: right;\n",
       "    }\n",
       "</style>\n",
       "<table border=\"1\" class=\"dataframe\">\n",
       "  <thead>\n",
       "    <tr style=\"text-align: right;\">\n",
       "      <th></th>\n",
       "      <th>Year</th>\n",
       "      <th>Life_Expectancy</th>\n",
       "      <th>Adult_Mortality</th>\n",
       "      <th>infant_deaths</th>\n",
       "      <th>Alcohol</th>\n",
       "      <th>percentage_expenditure</th>\n",
       "      <th>Hepatitis_B</th>\n",
       "      <th>Measles</th>\n",
       "      <th>BMI</th>\n",
       "      <th>under_five_deaths</th>\n",
       "      <th>Polio</th>\n",
       "      <th>Total_Expenditure</th>\n",
       "      <th>Diphtheria</th>\n",
       "      <th>HIV/AIDS</th>\n",
       "      <th>GDP</th>\n",
       "      <th>thinness_1_19_years</th>\n",
       "      <th>thinness_5_9_years</th>\n",
       "      <th>Income_composition_of_resources</th>\n",
       "      <th>Schooling</th>\n",
       "    </tr>\n",
       "  </thead>\n",
       "  <tbody>\n",
       "    <tr>\n",
       "      <th>0</th>\n",
       "      <td>2015</td>\n",
       "      <td>65.0</td>\n",
       "      <td>263.0</td>\n",
       "      <td>62</td>\n",
       "      <td>0.01</td>\n",
       "      <td>71.279624</td>\n",
       "      <td>65.0</td>\n",
       "      <td>1154</td>\n",
       "      <td>19.1</td>\n",
       "      <td>83</td>\n",
       "      <td>6.0</td>\n",
       "      <td>8.16</td>\n",
       "      <td>65.0</td>\n",
       "      <td>0.1</td>\n",
       "      <td>584.259210</td>\n",
       "      <td>16.6</td>\n",
       "      <td>6.9</td>\n",
       "      <td>0.479</td>\n",
       "      <td>10.1</td>\n",
       "    </tr>\n",
       "    <tr>\n",
       "      <th>1</th>\n",
       "      <td>2014</td>\n",
       "      <td>59.9</td>\n",
       "      <td>271.0</td>\n",
       "      <td>64</td>\n",
       "      <td>0.01</td>\n",
       "      <td>73.523582</td>\n",
       "      <td>62.0</td>\n",
       "      <td>492</td>\n",
       "      <td>18.6</td>\n",
       "      <td>86</td>\n",
       "      <td>58.0</td>\n",
       "      <td>8.18</td>\n",
       "      <td>62.0</td>\n",
       "      <td>0.1</td>\n",
       "      <td>612.696514</td>\n",
       "      <td>16.6</td>\n",
       "      <td>6.9</td>\n",
       "      <td>0.476</td>\n",
       "      <td>10.0</td>\n",
       "    </tr>\n",
       "    <tr>\n",
       "      <th>2</th>\n",
       "      <td>2013</td>\n",
       "      <td>59.9</td>\n",
       "      <td>268.0</td>\n",
       "      <td>66</td>\n",
       "      <td>0.01</td>\n",
       "      <td>73.219243</td>\n",
       "      <td>64.0</td>\n",
       "      <td>430</td>\n",
       "      <td>18.1</td>\n",
       "      <td>89</td>\n",
       "      <td>62.0</td>\n",
       "      <td>8.13</td>\n",
       "      <td>64.0</td>\n",
       "      <td>0.1</td>\n",
       "      <td>631.744976</td>\n",
       "      <td>16.6</td>\n",
       "      <td>6.9</td>\n",
       "      <td>0.470</td>\n",
       "      <td>9.9</td>\n",
       "    </tr>\n",
       "    <tr>\n",
       "      <th>3</th>\n",
       "      <td>2012</td>\n",
       "      <td>59.5</td>\n",
       "      <td>272.0</td>\n",
       "      <td>69</td>\n",
       "      <td>0.01</td>\n",
       "      <td>78.184215</td>\n",
       "      <td>67.0</td>\n",
       "      <td>2787</td>\n",
       "      <td>17.6</td>\n",
       "      <td>93</td>\n",
       "      <td>67.0</td>\n",
       "      <td>8.52</td>\n",
       "      <td>67.0</td>\n",
       "      <td>0.1</td>\n",
       "      <td>669.959000</td>\n",
       "      <td>16.6</td>\n",
       "      <td>6.9</td>\n",
       "      <td>0.463</td>\n",
       "      <td>9.8</td>\n",
       "    </tr>\n",
       "    <tr>\n",
       "      <th>4</th>\n",
       "      <td>2011</td>\n",
       "      <td>59.2</td>\n",
       "      <td>275.0</td>\n",
       "      <td>71</td>\n",
       "      <td>0.01</td>\n",
       "      <td>7.097109</td>\n",
       "      <td>68.0</td>\n",
       "      <td>3013</td>\n",
       "      <td>17.2</td>\n",
       "      <td>97</td>\n",
       "      <td>68.0</td>\n",
       "      <td>7.87</td>\n",
       "      <td>68.0</td>\n",
       "      <td>0.1</td>\n",
       "      <td>63.537231</td>\n",
       "      <td>16.6</td>\n",
       "      <td>6.9</td>\n",
       "      <td>0.454</td>\n",
       "      <td>9.5</td>\n",
       "    </tr>\n",
       "  </tbody>\n",
       "</table>\n",
       "</div>"
      ],
      "text/plain": [
       "   Year  Life_Expectancy  Adult_Mortality  infant_deaths  Alcohol  \\\n",
       "0  2015             65.0            263.0             62     0.01   \n",
       "1  2014             59.9            271.0             64     0.01   \n",
       "2  2013             59.9            268.0             66     0.01   \n",
       "3  2012             59.5            272.0             69     0.01   \n",
       "4  2011             59.2            275.0             71     0.01   \n",
       "\n",
       "   percentage_expenditure  Hepatitis_B  Measles   BMI  under_five_deaths  \\\n",
       "0               71.279624         65.0     1154  19.1                 83   \n",
       "1               73.523582         62.0      492  18.6                 86   \n",
       "2               73.219243         64.0      430  18.1                 89   \n",
       "3               78.184215         67.0     2787  17.6                 93   \n",
       "4                7.097109         68.0     3013  17.2                 97   \n",
       "\n",
       "   Polio  Total_Expenditure  Diphtheria  HIV/AIDS         GDP  \\\n",
       "0    6.0               8.16        65.0       0.1  584.259210   \n",
       "1   58.0               8.18        62.0       0.1  612.696514   \n",
       "2   62.0               8.13        64.0       0.1  631.744976   \n",
       "3   67.0               8.52        67.0       0.1  669.959000   \n",
       "4   68.0               7.87        68.0       0.1   63.537231   \n",
       "\n",
       "   thinness_1_19_years  thinness_5_9_years  Income_composition_of_resources  \\\n",
       "0                 16.6                 6.9                            0.479   \n",
       "1                 16.6                 6.9                            0.476   \n",
       "2                 16.6                 6.9                            0.470   \n",
       "3                 16.6                 6.9                            0.463   \n",
       "4                 16.6                 6.9                            0.454   \n",
       "\n",
       "   Schooling  \n",
       "0       10.1  \n",
       "1       10.0  \n",
       "2        9.9  \n",
       "3        9.8  \n",
       "4        9.5  "
      ]
     },
     "execution_count": 15,
     "metadata": {},
     "output_type": "execute_result"
    }
   ],
   "source": [
    "import pandas as pd\n",
    "import xgboost as xgb\n",
    "import numpy as np\n",
    "import matplotlib.pyplot as plt\n",
    "\n",
    "from sklearn.metrics import mean_squared_error\n",
    "\n",
    "\n",
    "df.head()"
   ]
  },
  {
   "cell_type": "code",
   "execution_count": 52,
   "metadata": {},
   "outputs": [],
   "source": [
    "X = df.drop('Life_Expectancy', axis=1)\n",
    "y = df.Life_Expectancy"
   ]
  },
  {
   "cell_type": "code",
   "execution_count": 53,
   "metadata": {},
   "outputs": [],
   "source": [
    "from sklearn.model_selection import train_test_split"
   ]
  },
  {
   "cell_type": "code",
   "execution_count": 54,
   "metadata": {},
   "outputs": [],
   "source": [
    "X_train, X_test, y_train, y_test = train_test_split(X, y, test_size=0.2, random_state=40)\n",
    "\n",
    "\n",
    "xg_reg = xgb.XGBRegressor(objective ='reg:linear', seed=40)\n"
   ]
  },
  {
   "cell_type": "code",
   "execution_count": 63,
   "metadata": {},
   "outputs": [],
   "source": [
    "params_reg = {'colsample_bytree': [0.3, 0.7], \n",
    "                       'gamma': [0.001, 0.1], \n",
    "                       'learning_rate': [0.3], \n",
    "                       'max_depth': [3], \n",
    "                       'min_child_weight': [3], \n",
    "                       'n_estimators': [50],\n",
    "                       'silent':[1]\n",
    "                      }"
   ]
  },
  {
   "cell_type": "code",
   "execution_count": 65,
   "metadata": {},
   "outputs": [
    {
     "data": {
      "text/plain": [
       "GridSearchCV(cv=10, error_score='raise-deprecating',\n",
       "       estimator=XGBRegressor(base_score=0.5, booster='gbtree', colsample_bylevel=1,\n",
       "       colsample_bynode=1, colsample_bytree=1, gamma=0,\n",
       "       importance_type='gain', learning_rate=0.1, max_delta_step=0,\n",
       "       max_depth=3, min_child_weight=1, missing=None, n_estimators=100,\n",
       "       n_jobs=1, nthread=None, objective='reg:linear', random_state=0,\n",
       "       reg_alpha=0, reg_lambda=1, scale_pos_weight=1, seed=40, silent=None,\n",
       "       subsample=1, verbosity=1),\n",
       "       fit_params=None, iid='warn', n_jobs=None,\n",
       "       param_grid={'colsample_bytree': [0.3, 0.7], 'gamma': [0.001, 0.1], 'learning_rate': [0.3], 'max_depth': [3], 'min_child_weight': [3], 'n_estimators': [50], 'silent': [1]},\n",
       "       pre_dispatch='2*n_jobs', refit=True, return_train_score='warn',\n",
       "       scoring=None, verbose=0)"
      ]
     },
     "execution_count": 65,
     "metadata": {},
     "output_type": "execute_result"
    }
   ],
   "source": [
    "from sklearn.model_selection import GridSearchCV\n",
    "\n",
    "\n",
    "grid_cv = GridSearchCV(estimator=xg_reg,\n",
    "                       param_grid = params_reg,\n",
    "                       cv = 10\n",
    "                      )\n",
    "grid_cv.fit(X, y)"
   ]
  },
  {
   "cell_type": "code",
   "execution_count": 66,
   "metadata": {},
   "outputs": [
    {
     "name": "stdout",
     "output_type": "stream",
     "text": [
      "En iyi parametreler :  {'colsample_bytree': 0.7, 'gamma': 0.001, 'learning_rate': 0.3, 'max_depth': 3, 'min_child_weight': 3, 'n_estimators': 50, 'silent': 1}\n",
      "En iyi skor         :  0.90793937130995\n"
     ]
    }
   ],
   "source": [
    "print(\"En iyi parametreler : \", grid_cv.best_params_)\n",
    "print(\"En iyi skor         : \", grid_cv.best_score_)"
   ]
  },
  {
   "cell_type": "code",
   "execution_count": 67,
   "metadata": {},
   "outputs": [
    {
     "name": "stdout",
     "output_type": "stream",
     "text": [
      "RMSE: 2.404753\n"
     ]
    }
   ],
   "source": [
    "grid_cv.fit(X_train,y_train)\n",
    "\n",
    "y_pred = grid_cv.predict(X_test)\n",
    "\n",
    "rmse_reg = np.sqrt(mean_squared_error(y_test, y_pred))\n",
    "print(\"RMSE: %f\" % (rmse_reg))"
   ]
  },
  {
   "cell_type": "markdown",
   "metadata": {},
   "source": [
    "XGBoost varsayılan değer olarak zayıf öğrenici olarak karar ağaçlarını kullandığı için booster=\"gbtree\" varsayılan olarak belirlenmiştir. XGBoost'ta çok kullanılmasa da karar ağacı yerine lineer model kullanmak istersek booster:\"gblinear\" şeklinde belirtebiliriz. Bu yöntem çok yaygın olmadığından bu yöntem sklearn API ile kullanılamamakta. Bu yüzden bunun için yine DMatrix veri yapısını kullanmamız gerekecek"
   ]
  },
  {
   "cell_type": "code",
   "execution_count": 68,
   "metadata": {},
   "outputs": [],
   "source": [
    "DM_train = xgb.DMatrix(data = X_train, label=y_train)\n",
    "DM_test =  xgb.DMatrix(data = X_test, label=y_test)"
   ]
  },
  {
   "cell_type": "code",
   "execution_count": 69,
   "metadata": {},
   "outputs": [
    {
     "name": "stdout",
     "output_type": "stream",
     "text": [
      "[10:13:33] WARNING: C:/Jenkins/workspace/xgboost-win64_release_0.90/src/objective/regression_obj.cu:152: reg:linear is now deprecated in favor of reg:squarederror.\n"
     ]
    }
   ],
   "source": [
    "params = {\"booster\":\"gblinear\", \"objective\":\"reg:linear\"}\n",
    "xg_reg = xgb.train(dtrain=DM_train, params=params, num_boost_round=5)\n",
    "\n",
    "#Modelimizi eğittik. Şimdi performansına bakalım."
   ]
  },
  {
   "cell_type": "code",
   "execution_count": 40,
   "metadata": {},
   "outputs": [
    {
     "name": "stdout",
     "output_type": "stream",
     "text": [
      "RMSE: 5.807476\n"
     ]
    }
   ],
   "source": [
    "y_pred_gblinear = xg_reg.predict(DM_test)\n",
    "rmse_gblinear = np.sqrt(mean_squared_error(y_test, y_pred_gblinear))\n",
    "print(\"RMSE: %f\" % (rmse_gblinear))"
   ]
  },
  {
   "cell_type": "markdown",
   "metadata": {},
   "source": [
    "İki modelin Kök Ortalama Kare Hataların (RMSE) karşılaştırdığımızda karar ağaçlarını zayıf öğrenme algoritması olarak kullanan modelin çok daha iyi olduğunu görüyoruz."
   ]
  },
  {
   "cell_type": "code",
   "execution_count": 41,
   "metadata": {},
   "outputs": [
    {
     "data": {
      "text/plain": [
       "5.807475947175275"
      ]
     },
     "execution_count": 41,
     "metadata": {},
     "output_type": "execute_result"
    }
   ],
   "source": [
    "rmse_gblinear"
   ]
  },
  {
   "cell_type": "code",
   "execution_count": 42,
   "metadata": {},
   "outputs": [
    {
     "data": {
      "text/plain": [
       "2.3310444478639356"
      ]
     },
     "execution_count": 42,
     "metadata": {},
     "output_type": "execute_result"
    }
   ],
   "source": [
    "rmse_reg"
   ]
  },
  {
   "cell_type": "code",
   "execution_count": 43,
   "metadata": {},
   "outputs": [
    {
     "data": {
      "image/png": "[encoded data removed]",
      "text/plain": [
       "<Figure size 576x576 with 1 Axes>"
      ]
     },
     "metadata": {
      "needs_background": "light"
     },
     "output_type": "display_data"
    }
   ],
   "source": [
    "plt.figure(figsize=(8,8))\n",
    "plt.title(\"'gbtree' ve 'gblinear' karşılaştırması\", size = 14)\n",
    "ax1 = plt.scatter(y_test, y_pred)\n",
    "ax2 = plt.scatter(y_test, y_pred_gblinear, alpha=0.30)\n",
    "ax3 = plt.plot(y_test, y_test, color=\"red\")\n",
    "plt.legend((ax1, ax2), ('gbtree', 'gblinear'))\n",
    "plt.xlabel(\"Gerçek Değerler\")\n",
    "plt.ylabel(\"Tahmin Değerler\")\n",
    "plt.show()\n"
   ]
  },
  {
   "cell_type": "markdown",
   "metadata": {},
   "source": [
    "## 3. XGBoost ile model performansını artırma\n",
    "\n",
    "Temel olarak XGBoost ile nasıl regresyon ve sınıflandırma modelleri oluşturulacağını gördük. Artık modelimizin kalitesini artıracak yöntemlere bakabiliriz.\n",
    "\n",
    "## 3.1. XGBoost ile Çapraz Doğrulama\n",
    "Çapraz doğrulama için XGBoost'un içerisinde yer alan cv fonksiyonunu kullanabileceğimiz gibi sklearn içerisinde yer alan cross_val_score fonksiyonunu da kullanabiliriz.\n",
    "\n",
    "Çapraz doğrulama ile Ortalama Mutlak Hata (MAE) ve Kök Ortalama Kare Hata (RMSE) değerlerine odaklanalım."
   ]
  },
  {
   "cell_type": "code",
   "execution_count": 44,
   "metadata": {},
   "outputs": [
    {
     "name": "stdout",
     "output_type": "stream",
     "text": [
      "[09:46:10] WARNING: C:/Jenkins/workspace/xgboost-win64_release_0.90/src/objective/regression_obj.cu:152: reg:linear is now deprecated in favor of reg:squarederror.\n",
      "[09:46:10] WARNING: C:/Jenkins/workspace/xgboost-win64_release_0.90/src/objective/regression_obj.cu:152: reg:linear is now deprecated in favor of reg:squarederror.\n",
      "[09:46:10] WARNING: C:/Jenkins/workspace/xgboost-win64_release_0.90/src/objective/regression_obj.cu:152: reg:linear is now deprecated in favor of reg:squarederror.\n"
     ]
    },
    {
     "data": {
      "text/html": [
       "<div>\n",
       "<style scoped>\n",
       "    .dataframe tbody tr th:only-of-type {\n",
       "        vertical-align: middle;\n",
       "    }\n",
       "\n",
       "    .dataframe tbody tr th {\n",
       "        vertical-align: top;\n",
       "    }\n",
       "\n",
       "    .dataframe thead th {\n",
       "        text-align: right;\n",
       "    }\n",
       "</style>\n",
       "<table border=\"1\" class=\"dataframe\">\n",
       "  <thead>\n",
       "    <tr style=\"text-align: right;\">\n",
       "      <th></th>\n",
       "      <th>train-rmse-mean</th>\n",
       "      <th>train-rmse-std</th>\n",
       "      <th>test-rmse-mean</th>\n",
       "      <th>test-rmse-std</th>\n",
       "    </tr>\n",
       "  </thead>\n",
       "  <tbody>\n",
       "    <tr>\n",
       "      <th>99</th>\n",
       "      <td>0.429942</td>\n",
       "      <td>0.002344</td>\n",
       "      <td>0.430812</td>\n",
       "      <td>0.004979</td>\n",
       "    </tr>\n",
       "    <tr>\n",
       "      <th>98</th>\n",
       "      <td>0.430032</td>\n",
       "      <td>0.002345</td>\n",
       "      <td>0.430902</td>\n",
       "      <td>0.004981</td>\n",
       "    </tr>\n",
       "    <tr>\n",
       "      <th>97</th>\n",
       "      <td>0.430125</td>\n",
       "      <td>0.002347</td>\n",
       "      <td>0.430992</td>\n",
       "      <td>0.004984</td>\n",
       "    </tr>\n",
       "    <tr>\n",
       "      <th>96</th>\n",
       "      <td>0.430217</td>\n",
       "      <td>0.002348</td>\n",
       "      <td>0.431082</td>\n",
       "      <td>0.004986</td>\n",
       "    </tr>\n",
       "    <tr>\n",
       "      <th>95</th>\n",
       "      <td>0.430310</td>\n",
       "      <td>0.002350</td>\n",
       "      <td>0.431174</td>\n",
       "      <td>0.004989</td>\n",
       "    </tr>\n",
       "    <tr>\n",
       "      <th>94</th>\n",
       "      <td>0.430404</td>\n",
       "      <td>0.002352</td>\n",
       "      <td>0.431266</td>\n",
       "      <td>0.004991</td>\n",
       "    </tr>\n",
       "    <tr>\n",
       "      <th>93</th>\n",
       "      <td>0.430499</td>\n",
       "      <td>0.002353</td>\n",
       "      <td>0.431359</td>\n",
       "      <td>0.004993</td>\n",
       "    </tr>\n",
       "    <tr>\n",
       "      <th>92</th>\n",
       "      <td>0.430595</td>\n",
       "      <td>0.002355</td>\n",
       "      <td>0.431453</td>\n",
       "      <td>0.004996</td>\n",
       "    </tr>\n",
       "    <tr>\n",
       "      <th>91</th>\n",
       "      <td>0.430691</td>\n",
       "      <td>0.002357</td>\n",
       "      <td>0.431547</td>\n",
       "      <td>0.004998</td>\n",
       "    </tr>\n",
       "    <tr>\n",
       "      <th>90</th>\n",
       "      <td>0.430789</td>\n",
       "      <td>0.002358</td>\n",
       "      <td>0.431642</td>\n",
       "      <td>0.005000</td>\n",
       "    </tr>\n",
       "  </tbody>\n",
       "</table>\n",
       "</div>"
      ],
      "text/plain": [
       "    train-rmse-mean  train-rmse-std  test-rmse-mean  test-rmse-std\n",
       "99         0.429942        0.002344        0.430812       0.004979\n",
       "98         0.430032        0.002345        0.430902       0.004981\n",
       "97         0.430125        0.002347        0.430992       0.004984\n",
       "96         0.430217        0.002348        0.431082       0.004986\n",
       "95         0.430310        0.002350        0.431174       0.004989\n",
       "94         0.430404        0.002352        0.431266       0.004991\n",
       "93         0.430499        0.002353        0.431359       0.004993\n",
       "92         0.430595        0.002355        0.431453       0.004996\n",
       "91         0.430691        0.002357        0.431547       0.004998\n",
       "90         0.430789        0.002358        0.431642       0.005000"
      ]
     },
     "metadata": {},
     "output_type": "display_data"
    }
   ],
   "source": [
    "df2_cv = xgb.cv(dtrain=wine_dmatrix, params=params, nfold=3, \n",
    "                    num_boost_round=100, metrics=\"rmse\", as_pandas=True, seed=123, early_stopping_rounds = 5)\n",
    "\n",
    "display(df2_cv.sort_values(by='test-rmse-mean').head(10))"
   ]
  },
  {
   "cell_type": "markdown",
   "metadata": {},
   "source": [
    "RMSE değeri 99. iterasyonda 0.430812'ye indi.\n",
    "\n",
    "#### metrics parametresini \"mae\" olarak değiştirerek modelin ortalama mutlak hata değerini öğrenebiliriz.\n"
   ]
  },
  {
   "cell_type": "code",
   "execution_count": 45,
   "metadata": {},
   "outputs": [
    {
     "name": "stdout",
     "output_type": "stream",
     "text": [
      "[09:46:52] WARNING: C:/Jenkins/workspace/xgboost-win64_release_0.90/src/objective/regression_obj.cu:152: reg:linear is now deprecated in favor of reg:squarederror.\n",
      "[09:46:52] WARNING: C:/Jenkins/workspace/xgboost-win64_release_0.90/src/objective/regression_obj.cu:152: reg:linear is now deprecated in favor of reg:squarederror.\n",
      "[09:46:52] WARNING: C:/Jenkins/workspace/xgboost-win64_release_0.90/src/objective/regression_obj.cu:152: reg:linear is now deprecated in favor of reg:squarederror.\n"
     ]
    },
    {
     "data": {
      "text/html": [
       "<div>\n",
       "<style scoped>\n",
       "    .dataframe tbody tr th:only-of-type {\n",
       "        vertical-align: middle;\n",
       "    }\n",
       "\n",
       "    .dataframe tbody tr th {\n",
       "        vertical-align: top;\n",
       "    }\n",
       "\n",
       "    .dataframe thead th {\n",
       "        text-align: right;\n",
       "    }\n",
       "</style>\n",
       "<table border=\"1\" class=\"dataframe\">\n",
       "  <thead>\n",
       "    <tr style=\"text-align: right;\">\n",
       "      <th></th>\n",
       "      <th>train-mae-mean</th>\n",
       "      <th>train-mae-std</th>\n",
       "      <th>test-mae-mean</th>\n",
       "      <th>test-mae-std</th>\n",
       "    </tr>\n",
       "  </thead>\n",
       "  <tbody>\n",
       "    <tr>\n",
       "      <th>99</th>\n",
       "      <td>0.378935</td>\n",
       "      <td>0.004048</td>\n",
       "      <td>0.379770</td>\n",
       "      <td>0.004606</td>\n",
       "    </tr>\n",
       "    <tr>\n",
       "      <th>98</th>\n",
       "      <td>0.379083</td>\n",
       "      <td>0.004051</td>\n",
       "      <td>0.379915</td>\n",
       "      <td>0.004602</td>\n",
       "    </tr>\n",
       "    <tr>\n",
       "      <th>97</th>\n",
       "      <td>0.379232</td>\n",
       "      <td>0.004055</td>\n",
       "      <td>0.380061</td>\n",
       "      <td>0.004597</td>\n",
       "    </tr>\n",
       "    <tr>\n",
       "      <th>96</th>\n",
       "      <td>0.379383</td>\n",
       "      <td>0.004059</td>\n",
       "      <td>0.380210</td>\n",
       "      <td>0.004593</td>\n",
       "    </tr>\n",
       "    <tr>\n",
       "      <th>95</th>\n",
       "      <td>0.379536</td>\n",
       "      <td>0.004062</td>\n",
       "      <td>0.380361</td>\n",
       "      <td>0.004588</td>\n",
       "    </tr>\n",
       "    <tr>\n",
       "      <th>94</th>\n",
       "      <td>0.379692</td>\n",
       "      <td>0.004066</td>\n",
       "      <td>0.380515</td>\n",
       "      <td>0.004584</td>\n",
       "    </tr>\n",
       "    <tr>\n",
       "      <th>93</th>\n",
       "      <td>0.379850</td>\n",
       "      <td>0.004069</td>\n",
       "      <td>0.380671</td>\n",
       "      <td>0.004580</td>\n",
       "    </tr>\n",
       "    <tr>\n",
       "      <th>92</th>\n",
       "      <td>0.380010</td>\n",
       "      <td>0.004073</td>\n",
       "      <td>0.380829</td>\n",
       "      <td>0.004576</td>\n",
       "    </tr>\n",
       "    <tr>\n",
       "      <th>91</th>\n",
       "      <td>0.380173</td>\n",
       "      <td>0.004076</td>\n",
       "      <td>0.380989</td>\n",
       "      <td>0.004571</td>\n",
       "    </tr>\n",
       "    <tr>\n",
       "      <th>90</th>\n",
       "      <td>0.380339</td>\n",
       "      <td>0.004079</td>\n",
       "      <td>0.381152</td>\n",
       "      <td>0.004566</td>\n",
       "    </tr>\n",
       "  </tbody>\n",
       "</table>\n",
       "</div>"
      ],
      "text/plain": [
       "    train-mae-mean  train-mae-std  test-mae-mean  test-mae-std\n",
       "99        0.378935       0.004048       0.379770      0.004606\n",
       "98        0.379083       0.004051       0.379915      0.004602\n",
       "97        0.379232       0.004055       0.380061      0.004597\n",
       "96        0.379383       0.004059       0.380210      0.004593\n",
       "95        0.379536       0.004062       0.380361      0.004588\n",
       "94        0.379692       0.004066       0.380515      0.004584\n",
       "93        0.379850       0.004069       0.380671      0.004580\n",
       "92        0.380010       0.004073       0.380829      0.004576\n",
       "91        0.380173       0.004076       0.380989      0.004571\n",
       "90        0.380339       0.004079       0.381152      0.004566"
      ]
     },
     "metadata": {},
     "output_type": "display_data"
    }
   ],
   "source": [
    "df2_cv = xgb.cv(dtrain=wine_dmatrix, params=params, nfold=3, \n",
    "                    num_boost_round=100, metrics=\"mae\", as_pandas=True, seed=123, early_stopping_rounds = 5)\n",
    "\n",
    "display(df2_cv.sort_values(by='test-mae-mean').head(10))"
   ]
  },
  {
   "cell_type": "markdown",
   "metadata": {},
   "source": [
    "## 3.2. XGBoost ile Regularizasyon\n",
    "\n",
    "XBoost'da regularizasyon için çoğunlukla aşağıdaki parametreleri kullanmaktayız:\n",
    "\n",
    "**gamma** : Ağaçların bölünmesi esnasında izin verilen maksimum kayıp azalması. Büyük değerler olduğu takdirde daha az dallanma olacaktır.\n",
    "\n",
    "**alpha** : Daha önceki lineer modellerde de gördüğümüz dalların ağırlıklarının l1 regularizasyonu. Büyük değerler daha fazla regularizasyon anlamına gelmektedir. Bu durumda bir çok ağacın ağırlığı 0 olmaktadır.\n",
    "\n",
    "**lambda**: Dalların ağırlıklarının l2 regularizasyonu. l1 regularizasyonuna göre daha yumuşaktır.\n",
    "L1 regularizasyonuna bakalım. alpha değerleri için bir liste oluşturup bir döngü ile tüm değerleri deneyelim. Herbir alpha değeri için RMSE değerlerini bir listeye atalım. params sözlüğü içinde alpha değeri bulunmuyordu. Döngü içerisinde sırasıyla listedeki alpha değerlerini parametrelere ekleyip, çapraz doğrulama modelimizi eğiteceğiz."
   ]
  },
  {
   "cell_type": "code",
   "execution_count": 46,
   "metadata": {},
   "outputs": [],
   "source": [
    "l1_params = np.arange(0.01, 0.2, 0.01)\n",
    "\n",
    "params = {\"objective\":\"reg:linear\",\"max_depth\":3, \"silent\":1}\n",
    "\n",
    "rmses_l1 = []\n",
    "for alpha in l1_params:\n",
    "    params[\"alpha\"] = alpha\n",
    "    cv_rmse = xgb.cv(dtrain=wine_dmatrix, params=params, nfold=4, num_boost_round=100, \n",
    "                             metrics=\"rmse\", as_pandas=True, early_stopping_rounds=10, seed=123)\n",
    "    rmses_l1.append(cv_rmse[\"test-rmse-mean\"].tail(1).values[0])"
   ]
  },
  {
   "cell_type": "code",
   "execution_count": 47,
   "metadata": {},
   "outputs": [
    {
     "name": "stdout",
     "output_type": "stream",
     "text": [
      "En iyi l1 değerleri:\n"
     ]
    },
    {
     "data": {
      "text/html": [
       "<div>\n",
       "<style scoped>\n",
       "    .dataframe tbody tr th:only-of-type {\n",
       "        vertical-align: middle;\n",
       "    }\n",
       "\n",
       "    .dataframe tbody tr th {\n",
       "        vertical-align: top;\n",
       "    }\n",
       "\n",
       "    .dataframe thead th {\n",
       "        text-align: right;\n",
       "    }\n",
       "</style>\n",
       "<table border=\"1\" class=\"dataframe\">\n",
       "  <thead>\n",
       "    <tr style=\"text-align: right;\">\n",
       "      <th></th>\n",
       "      <th>l1</th>\n",
       "      <th>rmse</th>\n",
       "    </tr>\n",
       "  </thead>\n",
       "  <tbody>\n",
       "    <tr>\n",
       "      <th>0</th>\n",
       "      <td>0.01</td>\n",
       "      <td>0.388006</td>\n",
       "    </tr>\n",
       "    <tr>\n",
       "      <th>4</th>\n",
       "      <td>0.05</td>\n",
       "      <td>0.388311</td>\n",
       "    </tr>\n",
       "    <tr>\n",
       "      <th>15</th>\n",
       "      <td>0.16</td>\n",
       "      <td>0.388379</td>\n",
       "    </tr>\n",
       "    <tr>\n",
       "      <th>1</th>\n",
       "      <td>0.02</td>\n",
       "      <td>0.388426</td>\n",
       "    </tr>\n",
       "    <tr>\n",
       "      <th>5</th>\n",
       "      <td>0.06</td>\n",
       "      <td>0.388500</td>\n",
       "    </tr>\n",
       "  </tbody>\n",
       "</table>\n",
       "</div>"
      ],
      "text/plain": [
       "      l1      rmse\n",
       "0   0.01  0.388006\n",
       "4   0.05  0.388311\n",
       "15  0.16  0.388379\n",
       "1   0.02  0.388426\n",
       "5   0.06  0.388500"
      ]
     },
     "metadata": {},
     "output_type": "display_data"
    }
   ],
   "source": [
    "print(\"En iyi l1 değerleri:\")\n",
    "en_iyi_degerler = pd.DataFrame(list(zip(l1_params, rmses_l1)), columns=[\"l1\", \"rmse\"])\n",
    "display(en_iyi_degerler.sort_values('rmse').head())"
   ]
  },
  {
   "cell_type": "code",
   "execution_count": 48,
   "metadata": {},
   "outputs": [],
   "source": [
    "gamma_listesi = [0.1, 1, 10, 100]\n",
    "\n",
    "params = {\"objective\":\"reg:linear\",\"max_depth\":3, \"silent\":1}\n",
    "\n",
    "rmses_l1 = []\n",
    "for gamma in l1_params:\n",
    "    params[\"gamma\"] = gamma\n",
    "    cv_rmse = xgb.cv(dtrain=wine_dmatrix, params=params, nfold=4, num_boost_round=100, \n",
    "                             metrics=\"rmse\", as_pandas=True, early_stopping_rounds=10, seed=123)\n",
    "    rmses_l1.append(cv_rmse[\"test-rmse-mean\"].tail(1).values[0])"
   ]
  },
  {
   "cell_type": "code",
   "execution_count": 49,
   "metadata": {},
   "outputs": [
    {
     "name": "stdout",
     "output_type": "stream",
     "text": [
      "En iyi l1 değerleri:\n"
     ]
    },
    {
     "data": {
      "text/html": [
       "<div>\n",
       "<style scoped>\n",
       "    .dataframe tbody tr th:only-of-type {\n",
       "        vertical-align: middle;\n",
       "    }\n",
       "\n",
       "    .dataframe tbody tr th {\n",
       "        vertical-align: top;\n",
       "    }\n",
       "\n",
       "    .dataframe thead th {\n",
       "        text-align: right;\n",
       "    }\n",
       "</style>\n",
       "<table border=\"1\" class=\"dataframe\">\n",
       "  <thead>\n",
       "    <tr style=\"text-align: right;\">\n",
       "      <th></th>\n",
       "      <th>l1</th>\n",
       "      <th>rmse</th>\n",
       "    </tr>\n",
       "  </thead>\n",
       "  <tbody>\n",
       "    <tr>\n",
       "      <th>6</th>\n",
       "      <td>0.07</td>\n",
       "      <td>0.388549</td>\n",
       "    </tr>\n",
       "    <tr>\n",
       "      <th>2</th>\n",
       "      <td>0.03</td>\n",
       "      <td>0.388822</td>\n",
       "    </tr>\n",
       "    <tr>\n",
       "      <th>17</th>\n",
       "      <td>0.18</td>\n",
       "      <td>0.389137</td>\n",
       "    </tr>\n",
       "    <tr>\n",
       "      <th>8</th>\n",
       "      <td>0.09</td>\n",
       "      <td>0.389152</td>\n",
       "    </tr>\n",
       "    <tr>\n",
       "      <th>7</th>\n",
       "      <td>0.08</td>\n",
       "      <td>0.389275</td>\n",
       "    </tr>\n",
       "  </tbody>\n",
       "</table>\n",
       "</div>"
      ],
      "text/plain": [
       "      l1      rmse\n",
       "6   0.07  0.388549\n",
       "2   0.03  0.388822\n",
       "17  0.18  0.389137\n",
       "8   0.09  0.389152\n",
       "7   0.08  0.389275"
      ]
     },
     "metadata": {},
     "output_type": "display_data"
    }
   ],
   "source": [
    "print(\"En iyi l1 değerleri:\")\n",
    "en_iyi_degerler = pd.DataFrame(list(zip(l1_params, rmses_l1)), columns=[\"l1\", \"rmse\"])\n",
    "display(en_iyi_degerler.sort_values('rmse').head())"
   ]
  },
  {
   "cell_type": "markdown",
   "metadata": {},
   "source": [
    "## 3.3. Hiperparametre Ayarlama \n",
    "\n",
    "\n",
    "Bütün makine öğrenimi modellerinde olduğu gibi XGBoost'da da hiperparametre ayarlaması modelin performansını oldukça etkilemektedir. Hatta XGBoost'da diğer algoritmalara nazaran daha çok parametre bulunmaktadır. Modelin kullanacağı parametreleri bir sözlük içerisinde belirttiğimizi görmüştük. Modeli oluşturuken bu sözlüğe daha fazla değişken tanımlayarak parametre ayarlaması yapabiliriz.\n",
    "\n",
    "Modelin boosting için kaç iterasyon yapacağını num_boost_round değişkeni ile belirleyebiliyoruz. Ancak early_stopping_rounds parametresi ile belirleyeceğimiz iterasyon sayısınca metriklerde gelişme olmazsa iterasyonları otomatik olarak durdurabiliriz.\n",
    "\n",
    "Ayarlama yapabileceğimiz bazı parametreler şunlardır:\n",
    "\n",
    "**learning_rate** : Modelin öğrenme oranı yani hatayı azaltma oranı. Küçük öğrenme oranları daha fazla iterasyon gerektirir.\n",
    "\n",
    "**gamma, alpha, lambda** : Yukarıda bahsettiğimiz regülarizasyon parametreleri.\n",
    "\n",
    "**max_depth** : Her bir ağaç için maksimum derinlik.\n",
    "\n",
    "**subsample** : Modeldeki verilerin bir ağacın eğitimi için kullanılacak oranı. 0 ila 1 arasında bir değerdir. Büyük değerler overfittinge yol açabilir.\n",
    "\n",
    "**colsample_bytree** : Her ağaç için kullanılacak değişken oranı. Bir regularizasyon sayılabilir. Büyük değerler fazla değişkenli modellerden dolayı overfittinge yol açabilir.\n",
    "\n",
    "**min_child_weight** : Bir dalın minimum ağırlık değeri. Düşük değerler underfittinge yol açabilir.\n",
    "\n",
    "Yukarıdaki örnekte regularizasyon yaparken yaptığımız gibi deneyeceğimiz parametreleri bir listeye ekleyip, bir döngü ile en başarılı parametreleri bulabiliriz. Ya da bunun yerine sklearn kütüphanesindeki GridSearchCV ve RandomSearchCV fonksiyonlarını da kullanabiliriz.\n",
    "\n",
    "Modelimizin değişkenlerinin önem derecesini plot_importance fonksiyonu sayesinde grafik ahalinde kolaylıkla görebiliyoruz. Bunun için bir model oluşturup en önemli değerlere bakalım."
   ]
  },
  {
   "cell_type": "code",
   "execution_count": 50,
   "metadata": {},
   "outputs": [
    {
     "data": {
      "image/png": "[encoded data removed]",
      "text/plain": [
       "<Figure size 1440x576 with 1 Axes>"
      ]
     },
     "metadata": {
      "needs_background": "light"
     },
     "output_type": "display_data"
    }
   ],
   "source": [
    "\n",
    "en_iyi_parametreler = {'objective':'reg:linear',\n",
    "                       'colsample_bytree': 0.7, \n",
    "                       'gamma': 0.1, \n",
    "                       'learning_rate': 0.3, \n",
    "                       'max_depth': 3, \n",
    "                       'min_child_weight': 3, \n",
    "                       'n_estimators': 50,\n",
    "                       'silent':1\n",
    "                      }\n",
    "\n",
    "wine_modeli = xgb.train(params=en_iyi_parametreler, dtrain=wine_dmatrix, num_boost_round=10)\n",
    "\n",
    "ax = xgb.plot_importance(wine_modeli)\n",
    "ax.figure.set_size_inches(20,8)\n",
    "plt.show()"
   ]
  },
  {
   "cell_type": "markdown",
   "metadata": {},
   "source": [
    "XGBoost'un görselleştirme olarak sunduğu araçlardan biri de plot_tree() fonksiyonudur. Bu fonksiyonu kullanarak ağaçları ve dalları görebiliriz.\n"
   ]
  },
  {
   "cell_type": "code",
   "execution_count": 51,
   "metadata": {},
   "outputs": [
    {
     "data": {
      "image/png": "[encoded data removed]",
      "text/plain": [
       "<Figure size 2160x2160 with 1 Axes>"
      ]
     },
     "metadata": {
      "needs_background": "light"
     },
     "output_type": "display_data"
    }
   ],
   "source": [
    "ax1 = xgb.plot_tree(wine_modeli, num_trees=4)\n",
    "ax1.figure.set_size_inches(30,30)\n",
    "plt.show()"
   ]
  },
  {
   "cell_type": "code",
   "execution_count": null,
   "metadata": {},
   "outputs": [],
   "source": []
  },
  {
   "cell_type": "code",
   "execution_count": null,
   "metadata": {},
   "outputs": [],
   "source": []
  },
  {
   "cell_type": "code",
   "execution_count": null,
   "metadata": {},
   "outputs": [],
   "source": []
  },
  {
   "cell_type": "code",
   "execution_count": null,
   "metadata": {},
   "outputs": [],
   "source": []
  }
 ],
 "metadata": {
  "kernelspec": {
   "display_name": "Python 3",
   "language": "python",
   "name": "python3"
  },
  "language_info": {
   "codemirror_mode": {
    "name": "ipython",
    "version": 3
   },
   "file_extension": ".py",
   "mimetype": "text/x-python",
   "name": "python",
   "nbconvert_exporter": "python",
   "pygments_lexer": "ipython3",
   "version": "3.7.1"
  }
 },
 "nbformat": 4,
 "nbformat_minor": 2
}
