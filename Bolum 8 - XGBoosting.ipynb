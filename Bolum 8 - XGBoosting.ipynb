{
 "cells": [
  {
   "cell_type": "markdown",
   "metadata": {},
   "source": [
    "# <div align = 'center'> <font color='red'> BOLUM 8\n",
    "#  <div align = 'center'> <font color='red'>                           XGBOOSTING"
   ]
  },
  {
   "cell_type": "code",
   "execution_count": 3,
   "metadata": {},
   "outputs": [],
   "source": [
    "import pandas as pd"
   ]
  },
  {
   "cell_type": "code",
   "execution_count": 4,
   "metadata": {},
   "outputs": [],
   "source": [
    "import xgboost as xgb\n",
    "import warnings\n",
    "warnings.filterwarnings('ignore')"
   ]
  },
  {
   "cell_type": "code",
   "execution_count": 52,
   "metadata": {},
   "outputs": [],
   "source": [
    "df = pd.read_csv('data/LifeExpectancy.csv', index_col=0)"
   ]
  },
  {
   "cell_type": "code",
   "execution_count": 17,
   "metadata": {},
   "outputs": [],
   "source": [
    "df2 = pd.read_csv('data/Wine.csv')\n",
    "df2.type =  df2.type.map({'white':0, 'red':1} )"
   ]
  },
  {
   "cell_type": "code",
   "execution_count": 18,
   "metadata": {},
   "outputs": [
    {
     "data": {
      "text/html": [
       "<div>\n",
       "<style scoped>\n",
       "    .dataframe tbody tr th:only-of-type {\n",
       "        vertical-align: middle;\n",
       "    }\n",
       "\n",
       "    .dataframe tbody tr th {\n",
       "        vertical-align: top;\n",
       "    }\n",
       "\n",
       "    .dataframe thead th {\n",
       "        text-align: right;\n",
       "    }\n",
       "</style>\n",
       "<table border=\"1\" class=\"dataframe\">\n",
       "  <thead>\n",
       "    <tr style=\"text-align: right;\">\n",
       "      <th></th>\n",
       "      <th>Unnamed: 0</th>\n",
       "      <th>type</th>\n",
       "      <th>fixed_acidity</th>\n",
       "      <th>volatile_acidity</th>\n",
       "      <th>citric_acid</th>\n",
       "      <th>residual_sugar</th>\n",
       "      <th>chlorides</th>\n",
       "      <th>free_sulfur_dioxide</th>\n",
       "      <th>total_sulfur_dioxide</th>\n",
       "      <th>density</th>\n",
       "      <th>pH</th>\n",
       "      <th>sulphates</th>\n",
       "      <th>alcohol</th>\n",
       "      <th>quality_range</th>\n",
       "    </tr>\n",
       "  </thead>\n",
       "  <tbody>\n",
       "    <tr>\n",
       "      <th>0</th>\n",
       "      <td>0</td>\n",
       "      <td>0</td>\n",
       "      <td>7.0</td>\n",
       "      <td>0.27</td>\n",
       "      <td>0.36</td>\n",
       "      <td>17.2</td>\n",
       "      <td>0.045</td>\n",
       "      <td>45.0</td>\n",
       "      <td>170.0</td>\n",
       "      <td>1.001</td>\n",
       "      <td>3.0</td>\n",
       "      <td>0.45</td>\n",
       "      <td>8.8</td>\n",
       "      <td>1</td>\n",
       "    </tr>\n",
       "  </tbody>\n",
       "</table>\n",
       "</div>"
      ],
      "text/plain": [
       "   Unnamed: 0  type  fixed_acidity  volatile_acidity  citric_acid  \\\n",
       "0           0     0            7.0              0.27         0.36   \n",
       "\n",
       "   residual_sugar  chlorides  free_sulfur_dioxide  total_sulfur_dioxide  \\\n",
       "0            17.2      0.045                 45.0                 170.0   \n",
       "\n",
       "   density   pH  sulphates  alcohol  quality_range  \n",
       "0    1.001  3.0       0.45      8.8              1  "
      ]
     },
     "execution_count": 18,
     "metadata": {},
     "output_type": "execute_result"
    }
   ],
   "source": [
    "df2.head(1)"
   ]
  },
  {
   "cell_type": "markdown",
   "metadata": {},
   "source": [
    "## 1. XGBoost ile Sınıflandırma (xgb.DMatrix)"
   ]
  },
  {
   "cell_type": "code",
   "execution_count": 19,
   "metadata": {},
   "outputs": [],
   "source": [
    "X = df.drop('Life_Expectancy', axis=1)\n",
    "y = df.Life_Expectancy"
   ]
  },
  {
   "cell_type": "code",
   "execution_count": 30,
   "metadata": {},
   "outputs": [],
   "source": [
    "X = df2.drop('quality_range', axis=1)\n",
    "y = df2.quality_range\n"
   ]
  },
  {
   "cell_type": "code",
   "execution_count": 31,
   "metadata": {},
   "outputs": [],
   "source": [
    "#Lifed_matrix = xgb.DMatrix(data = X, label=y)"
   ]
  },
  {
   "cell_type": "code",
   "execution_count": 32,
   "metadata": {},
   "outputs": [],
   "source": [
    "wine_dmatrix = xgb.DMatrix(data = X, label=y)"
   ]
  },
  {
   "cell_type": "markdown",
   "metadata": {},
   "source": [
    "Modelimizi oluşturuken kullancağımız parametreleri belirliyoruz. XGBoost parametreleri içinde en önemlilerinden bir tanesi objective paramatresidir. Bu parametre ile modelimizin hata fonksiyonu olarak ne kullanacağını belirtiyoruz.\n",
    "\n",
    "Regresyon problemlerinde reg:linear\n",
    "Sınıflandırma modellerinde ise, tahmin edilen sınıf için reg-logistic, tahmin ihtimali için ise binary:logistic ifadesi kullanılır."
   ]
  },
  {
   "cell_type": "code",
   "execution_count": 33,
   "metadata": {},
   "outputs": [],
   "source": [
    "params = {\"objective\":\"reg:logistic\", \"max_depth\":3, \"silent\":1}"
   ]
  },
  {
   "cell_type": "code",
   "execution_count": 34,
   "metadata": {},
   "outputs": [
    {
     "data": {
      "text/html": [
       "<div>\n",
       "<style scoped>\n",
       "    .dataframe tbody tr th:only-of-type {\n",
       "        vertical-align: middle;\n",
       "    }\n",
       "\n",
       "    .dataframe tbody tr th {\n",
       "        vertical-align: top;\n",
       "    }\n",
       "\n",
       "    .dataframe thead th {\n",
       "        text-align: right;\n",
       "    }\n",
       "</style>\n",
       "<table border=\"1\" class=\"dataframe\">\n",
       "  <thead>\n",
       "    <tr style=\"text-align: right;\">\n",
       "      <th></th>\n",
       "      <th>train-error-mean</th>\n",
       "      <th>train-error-std</th>\n",
       "      <th>test-error-mean</th>\n",
       "      <th>test-error-std</th>\n",
       "    </tr>\n",
       "  </thead>\n",
       "  <tbody>\n",
       "    <tr>\n",
       "      <th>0</th>\n",
       "      <td>0.262660</td>\n",
       "      <td>0.003347</td>\n",
       "      <td>0.271357</td>\n",
       "      <td>0.003454</td>\n",
       "    </tr>\n",
       "    <tr>\n",
       "      <th>1</th>\n",
       "      <td>0.256349</td>\n",
       "      <td>0.003424</td>\n",
       "      <td>0.266432</td>\n",
       "      <td>0.006400</td>\n",
       "    </tr>\n",
       "    <tr>\n",
       "      <th>2</th>\n",
       "      <td>0.251809</td>\n",
       "      <td>0.004661</td>\n",
       "      <td>0.263199</td>\n",
       "      <td>0.004990</td>\n",
       "    </tr>\n",
       "    <tr>\n",
       "      <th>3</th>\n",
       "      <td>0.250501</td>\n",
       "      <td>0.003417</td>\n",
       "      <td>0.264893</td>\n",
       "      <td>0.007354</td>\n",
       "    </tr>\n",
       "    <tr>\n",
       "      <th>4</th>\n",
       "      <td>0.244498</td>\n",
       "      <td>0.002306</td>\n",
       "      <td>0.261507</td>\n",
       "      <td>0.007842</td>\n",
       "    </tr>\n",
       "  </tbody>\n",
       "</table>\n",
       "</div>"
      ],
      "text/plain": [
       "   train-error-mean  train-error-std  test-error-mean  test-error-std\n",
       "0          0.262660         0.003347         0.271357        0.003454\n",
       "1          0.256349         0.003424         0.266432        0.006400\n",
       "2          0.251809         0.004661         0.263199        0.004990\n",
       "3          0.250501         0.003417         0.264893        0.007354\n",
       "4          0.244498         0.002306         0.261507        0.007842"
      ]
     },
     "metadata": {},
     "output_type": "display_data"
    }
   ],
   "source": [
    "df2_cv = xgb.cv(dtrain=wine_dmatrix, params=params, nfold=3, \n",
    "                    num_boost_round=5, metrics=\"error\", as_pandas=True, seed=123)\n",
    "display(df2_cv)"
   ]
  },
  {
   "cell_type": "markdown",
   "metadata": {},
   "source": [
    "xgb.cv fonksiyonunda değerlendirme metriği olarak hata oranı (\"error\") tanımladık. as_pandas parametresini True olarak belirttiğimiz için sonuç olarak test ve eğitim verileri için hata oranını ve hata oranının standart sapmasını veri çerçevesi olarak döndürdü. Hata değerini 1'den çıkararak doğruluk (accuracy) değerini bulabiliriz."
   ]
  },
  {
   "cell_type": "code",
   "execution_count": 35,
   "metadata": {},
   "outputs": [
    {
     "name": "stdout",
     "output_type": "stream",
     "text": [
      "Doğruluk Değeri : 0.738\n"
     ]
    }
   ],
   "source": [
    "print('Doğruluk Değeri : {:.3f}'.format((1-df_cv[\"test-error-mean\"]).max()))"
   ]
  },
  {
   "cell_type": "markdown",
   "metadata": {},
   "source": [
    "Modelimiz 5 iterasyon sonunda en 0.825 gibi bir duğruluk değerine ulaştı.\n",
    "\n",
    "Modelimizin performansını AUC skoru ile de değerlendirebiliriz."
   ]
  },
  {
   "cell_type": "code",
   "execution_count": 37,
   "metadata": {},
   "outputs": [
    {
     "data": {
      "text/html": [
       "<div>\n",
       "<style scoped>\n",
       "    .dataframe tbody tr th:only-of-type {\n",
       "        vertical-align: middle;\n",
       "    }\n",
       "\n",
       "    .dataframe tbody tr th {\n",
       "        vertical-align: top;\n",
       "    }\n",
       "\n",
       "    .dataframe thead th {\n",
       "        text-align: right;\n",
       "    }\n",
       "</style>\n",
       "<table border=\"1\" class=\"dataframe\">\n",
       "  <thead>\n",
       "    <tr style=\"text-align: right;\">\n",
       "      <th></th>\n",
       "      <th>train-auc-mean</th>\n",
       "      <th>train-auc-std</th>\n",
       "      <th>test-auc-mean</th>\n",
       "      <th>test-auc-std</th>\n",
       "    </tr>\n",
       "  </thead>\n",
       "  <tbody>\n",
       "    <tr>\n",
       "      <th>0</th>\n",
       "      <td>0.786421</td>\n",
       "      <td>0.004296</td>\n",
       "      <td>0.768510</td>\n",
       "      <td>0.005279</td>\n",
       "    </tr>\n",
       "    <tr>\n",
       "      <th>1</th>\n",
       "      <td>0.803147</td>\n",
       "      <td>0.001637</td>\n",
       "      <td>0.787364</td>\n",
       "      <td>0.005780</td>\n",
       "    </tr>\n",
       "    <tr>\n",
       "      <th>2</th>\n",
       "      <td>0.812467</td>\n",
       "      <td>0.002649</td>\n",
       "      <td>0.796505</td>\n",
       "      <td>0.002184</td>\n",
       "    </tr>\n",
       "    <tr>\n",
       "      <th>3</th>\n",
       "      <td>0.817142</td>\n",
       "      <td>0.002379</td>\n",
       "      <td>0.800257</td>\n",
       "      <td>0.000868</td>\n",
       "    </tr>\n",
       "    <tr>\n",
       "      <th>4</th>\n",
       "      <td>0.822573</td>\n",
       "      <td>0.000661</td>\n",
       "      <td>0.802156</td>\n",
       "      <td>0.003129</td>\n",
       "    </tr>\n",
       "  </tbody>\n",
       "</table>\n",
       "</div>"
      ],
      "text/plain": [
       "   train-auc-mean  train-auc-std  test-auc-mean  test-auc-std\n",
       "0        0.786421       0.004296       0.768510      0.005279\n",
       "1        0.803147       0.001637       0.787364      0.005780\n",
       "2        0.812467       0.002649       0.796505      0.002184\n",
       "3        0.817142       0.002379       0.800257      0.000868\n",
       "4        0.822573       0.000661       0.802156      0.003129"
      ]
     },
     "metadata": {},
     "output_type": "display_data"
    },
    {
     "name": "stdout",
     "output_type": "stream",
     "text": [
      "AUC Skoru : 0.802\n"
     ]
    }
   ],
   "source": [
    "wine_auc = xgb.cv(dtrain=wine_dmatrix, params=params, nfold=3, \n",
    "                    num_boost_round=5, metrics=\"auc\", as_pandas=True, seed=123)\n",
    "display(wine_auc)\n",
    "print('AUC Skoru : {:.3f}'.format(wine_auc[\"test-auc-mean\"].max()))\n"
   ]
  },
  {
   "cell_type": "markdown",
   "metadata": {},
   "source": [
    "## 2. XGBoost ile Regresyon (XGBRegressor)"
   ]
  },
  {
   "cell_type": "code",
   "execution_count": 50,
   "metadata": {},
   "outputs": [
    {
     "data": {
      "text/html": [
       "<div>\n",
       "<style scoped>\n",
       "    .dataframe tbody tr th:only-of-type {\n",
       "        vertical-align: middle;\n",
       "    }\n",
       "\n",
       "    .dataframe tbody tr th {\n",
       "        vertical-align: top;\n",
       "    }\n",
       "\n",
       "    .dataframe thead th {\n",
       "        text-align: right;\n",
       "    }\n",
       "</style>\n",
       "<table border=\"1\" class=\"dataframe\">\n",
       "  <thead>\n",
       "    <tr style=\"text-align: right;\">\n",
       "      <th></th>\n",
       "      <th>Year</th>\n",
       "      <th>Life_Expectancy</th>\n",
       "      <th>Adult_Mortality</th>\n",
       "      <th>infant_deaths</th>\n",
       "      <th>Alcohol</th>\n",
       "      <th>percentage_expenditure</th>\n",
       "      <th>Hepatitis_B</th>\n",
       "      <th>Measles</th>\n",
       "      <th>BMI</th>\n",
       "      <th>under_five_deaths</th>\n",
       "      <th>Polio</th>\n",
       "      <th>Total_Expenditure</th>\n",
       "      <th>Diphtheria</th>\n",
       "      <th>HIV/AIDS</th>\n",
       "      <th>GDP</th>\n",
       "      <th>thinness_1_19_years</th>\n",
       "      <th>thinness_5_9_years</th>\n",
       "      <th>Income_composition_of_resources</th>\n",
       "      <th>Schooling</th>\n",
       "    </tr>\n",
       "  </thead>\n",
       "  <tbody>\n",
       "    <tr>\n",
       "      <th>0</th>\n",
       "      <td>2015</td>\n",
       "      <td>65.0</td>\n",
       "      <td>263.0</td>\n",
       "      <td>62</td>\n",
       "      <td>0.01</td>\n",
       "      <td>71.279624</td>\n",
       "      <td>65.0</td>\n",
       "      <td>1154</td>\n",
       "      <td>19.1</td>\n",
       "      <td>83</td>\n",
       "      <td>6.0</td>\n",
       "      <td>8.16</td>\n",
       "      <td>65.0</td>\n",
       "      <td>0.1</td>\n",
       "      <td>584.259210</td>\n",
       "      <td>16.6</td>\n",
       "      <td>6.9</td>\n",
       "      <td>0.479</td>\n",
       "      <td>10.1</td>\n",
       "    </tr>\n",
       "    <tr>\n",
       "      <th>1</th>\n",
       "      <td>2014</td>\n",
       "      <td>59.9</td>\n",
       "      <td>271.0</td>\n",
       "      <td>64</td>\n",
       "      <td>0.01</td>\n",
       "      <td>73.523582</td>\n",
       "      <td>62.0</td>\n",
       "      <td>492</td>\n",
       "      <td>18.6</td>\n",
       "      <td>86</td>\n",
       "      <td>58.0</td>\n",
       "      <td>8.18</td>\n",
       "      <td>62.0</td>\n",
       "      <td>0.1</td>\n",
       "      <td>612.696514</td>\n",
       "      <td>16.6</td>\n",
       "      <td>6.9</td>\n",
       "      <td>0.476</td>\n",
       "      <td>10.0</td>\n",
       "    </tr>\n",
       "    <tr>\n",
       "      <th>2</th>\n",
       "      <td>2013</td>\n",
       "      <td>59.9</td>\n",
       "      <td>268.0</td>\n",
       "      <td>66</td>\n",
       "      <td>0.01</td>\n",
       "      <td>73.219243</td>\n",
       "      <td>64.0</td>\n",
       "      <td>430</td>\n",
       "      <td>18.1</td>\n",
       "      <td>89</td>\n",
       "      <td>62.0</td>\n",
       "      <td>8.13</td>\n",
       "      <td>64.0</td>\n",
       "      <td>0.1</td>\n",
       "      <td>631.744976</td>\n",
       "      <td>16.6</td>\n",
       "      <td>6.9</td>\n",
       "      <td>0.470</td>\n",
       "      <td>9.9</td>\n",
       "    </tr>\n",
       "    <tr>\n",
       "      <th>3</th>\n",
       "      <td>2012</td>\n",
       "      <td>59.5</td>\n",
       "      <td>272.0</td>\n",
       "      <td>69</td>\n",
       "      <td>0.01</td>\n",
       "      <td>78.184215</td>\n",
       "      <td>67.0</td>\n",
       "      <td>2787</td>\n",
       "      <td>17.6</td>\n",
       "      <td>93</td>\n",
       "      <td>67.0</td>\n",
       "      <td>8.52</td>\n",
       "      <td>67.0</td>\n",
       "      <td>0.1</td>\n",
       "      <td>669.959000</td>\n",
       "      <td>16.6</td>\n",
       "      <td>6.9</td>\n",
       "      <td>0.463</td>\n",
       "      <td>9.8</td>\n",
       "    </tr>\n",
       "    <tr>\n",
       "      <th>4</th>\n",
       "      <td>2011</td>\n",
       "      <td>59.2</td>\n",
       "      <td>275.0</td>\n",
       "      <td>71</td>\n",
       "      <td>0.01</td>\n",
       "      <td>7.097109</td>\n",
       "      <td>68.0</td>\n",
       "      <td>3013</td>\n",
       "      <td>17.2</td>\n",
       "      <td>97</td>\n",
       "      <td>68.0</td>\n",
       "      <td>7.87</td>\n",
       "      <td>68.0</td>\n",
       "      <td>0.1</td>\n",
       "      <td>63.537231</td>\n",
       "      <td>16.6</td>\n",
       "      <td>6.9</td>\n",
       "      <td>0.454</td>\n",
       "      <td>9.5</td>\n",
       "    </tr>\n",
       "  </tbody>\n",
       "</table>\n",
       "</div>"
      ],
      "text/plain": [
       "   Year  Life_Expectancy  Adult_Mortality  infant_deaths  Alcohol  \\\n",
       "0  2015             65.0            263.0             62     0.01   \n",
       "1  2014             59.9            271.0             64     0.01   \n",
       "2  2013             59.9            268.0             66     0.01   \n",
       "3  2012             59.5            272.0             69     0.01   \n",
       "4  2011             59.2            275.0             71     0.01   \n",
       "\n",
       "   percentage_expenditure  Hepatitis_B  Measles   BMI  under_five_deaths  \\\n",
       "0               71.279624         65.0     1154  19.1                 83   \n",
       "1               73.523582         62.0      492  18.6                 86   \n",
       "2               73.219243         64.0      430  18.1                 89   \n",
       "3               78.184215         67.0     2787  17.6                 93   \n",
       "4                7.097109         68.0     3013  17.2                 97   \n",
       "\n",
       "   Polio  Total_Expenditure  Diphtheria  HIV/AIDS         GDP  \\\n",
       "0    6.0               8.16        65.0       0.1  584.259210   \n",
       "1   58.0               8.18        62.0       0.1  612.696514   \n",
       "2   62.0               8.13        64.0       0.1  631.744976   \n",
       "3   67.0               8.52        67.0       0.1  669.959000   \n",
       "4   68.0               7.87        68.0       0.1   63.537231   \n",
       "\n",
       "   thinness_1_19_years  thinness_5_9_years  Income_composition_of_resources  \\\n",
       "0                 16.6                 6.9                            0.479   \n",
       "1                 16.6                 6.9                            0.476   \n",
       "2                 16.6                 6.9                            0.470   \n",
       "3                 16.6                 6.9                            0.463   \n",
       "4                 16.6                 6.9                            0.454   \n",
       "\n",
       "   Schooling  \n",
       "0       10.1  \n",
       "1       10.0  \n",
       "2        9.9  \n",
       "3        9.8  \n",
       "4        9.5  "
      ]
     },
     "execution_count": 50,
     "metadata": {},
     "output_type": "execute_result"
    }
   ],
   "source": [
    "import pandas as pd\n",
    "import xgboost as xgb\n",
    "import numpy as np\n",
    "import matplotlib.pyplot as plt\n",
    "\n",
    "from sklearn.metrics import mean_squared_error\n",
    "\n",
    "\n",
    "df.head()"
   ]
  },
  {
   "cell_type": "code",
   "execution_count": 51,
   "metadata": {},
   "outputs": [],
   "source": [
    "from sklearn.model_selection import train_test_split"
   ]
  },
  {
   "cell_type": "code",
   "execution_count": 53,
   "metadata": {},
   "outputs": [],
   "source": [
    "X_train, X_test, y_train, y_test = train_test_split(X, y, test_size=0.2, random_state=40)\n",
    "\n",
    "\n",
    "xg_reg = xgb.XGBRegressor(objective ='reg:linear', seed=40)"
   ]
  },
  {
   "cell_type": "code",
   "execution_count": 54,
   "metadata": {},
   "outputs": [
    {
     "name": "stdout",
     "output_type": "stream",
     "text": [
      "[21:20:25] WARNING: C:/Jenkins/workspace/xgboost-win64_release_0.90/src/objective/regression_obj.cu:152: reg:linear is now deprecated in favor of reg:squarederror.\n",
      "RMSE: 0.466994\n"
     ]
    }
   ],
   "source": [
    "xg_reg.fit(X_train,y_train)\n",
    "\n",
    "y_pred = xg_reg.predict(X_test)\n",
    "\n",
    "rmse_reg = np.sqrt(mean_squared_error(y_test, y_pred))\n",
    "print(\"RMSE: %f\" % (rmse))"
   ]
  },
  {
   "cell_type": "markdown",
   "metadata": {},
   "source": [
    "XGBoost varsayılan değer olarak zayıf öğrenici olarak karar ağaçlarını kullandığı için booster=\"gbtree\" varsayılan olarak belirlenmiştir. XGBoost'ta çok kullanılmasa da karar ağacı yerine lineer model kullanmak istersek booster:\"gblinear\" şeklinde belirtebiliriz. Bu yöntem çok yaygın olmadığından bu yöntem sklearn API ile kullanılamamakta. Bu yüzden bunun için yine DMatrix veri yapısını kullanmamız gerekecek"
   ]
  },
  {
   "cell_type": "code",
   "execution_count": 55,
   "metadata": {},
   "outputs": [],
   "source": [
    "DM_train = xgb.DMatrix(data = X_train, label=y_train)\n",
    "DM_test =  xgb.DMatrix(data = X_test, label=y_test)"
   ]
  },
  {
   "cell_type": "code",
   "execution_count": 56,
   "metadata": {},
   "outputs": [
    {
     "name": "stdout",
     "output_type": "stream",
     "text": [
      "[21:20:28] WARNING: C:/Jenkins/workspace/xgboost-win64_release_0.90/src/objective/regression_obj.cu:152: reg:linear is now deprecated in favor of reg:squarederror.\n"
     ]
    }
   ],
   "source": [
    "params = {\"booster\":\"gblinear\", \"objective\":\"reg:linear\"}\n",
    "xg_reg = xgb.train(dtrain=DM_train, params=params, num_boost_round=5)\n",
    "\n",
    "#Modelimizi eğittik. Şimdi performansına bakalım."
   ]
  },
  {
   "cell_type": "code",
   "execution_count": 57,
   "metadata": {},
   "outputs": [
    {
     "name": "stdout",
     "output_type": "stream",
     "text": [
      "RMSE: 0.466994\n"
     ]
    }
   ],
   "source": [
    "y_pred_gblinear = xg_reg.predict(DM_test)\n",
    "rmse_gblinear = np.sqrt(mean_squared_error(y_test, y_pred_gblinear))\n",
    "print(\"RMSE: %f\" % (rmse))"
   ]
  },
  {
   "cell_type": "markdown",
   "metadata": {},
   "source": [
    "İki modelin Kök Ortalama Kare Hataların (RMSE) karşılaştırdığımızda karar ağaçlarını zayıf öğrenme algoritması olarak kullanan modelin çok daha iyi olduğunu görüyoruz."
   ]
  },
  {
   "cell_type": "code",
   "execution_count": 58,
   "metadata": {},
   "outputs": [
    {
     "data": {
      "text/plain": [
       "0.46699405008093897"
      ]
     },
     "execution_count": 58,
     "metadata": {},
     "output_type": "execute_result"
    }
   ],
   "source": [
    "rmse_gblinear"
   ]
  },
  {
   "cell_type": "code",
   "execution_count": 59,
   "metadata": {},
   "outputs": [
    {
     "data": {
      "text/plain": [
       "0.3948311718244044"
      ]
     },
     "execution_count": 59,
     "metadata": {},
     "output_type": "execute_result"
    }
   ],
   "source": [
    "rmse_reg"
   ]
  },
  {
   "cell_type": "code",
   "execution_count": 60,
   "metadata": {},
   "outputs": [
    {
     "data": {
      "image/png": "[encoded data removed]",
      "text/plain": [
       "<Figure size 576x576 with 1 Axes>"
      ]
     },
     "metadata": {
      "needs_background": "light"
     },
     "output_type": "display_data"
    }
   ],
   "source": [
    "plt.figure(figsize=(8,8))\n",
    "plt.title(\"'gbtree' ve 'gblinear' karşılaştırması\", size = 14)\n",
    "ax1 = plt.scatter(y_test, y_pred)\n",
    "ax2 = plt.scatter(y_test, y_pred_gblinear, alpha=0.30)\n",
    "ax3 = plt.plot(y_test, y_test, color=\"red\")\n",
    "plt.legend((ax1, ax2), ('gbtree', 'gblinear'))\n",
    "plt.xlabel(\"Gerçek Değerler\")\n",
    "plt.ylabel(\"Tahmin Değerler\")\n",
    "plt.show()\n"
   ]
  },
  {
   "cell_type": "code",
   "execution_count": null,
   "metadata": {},
   "outputs": [],
   "source": []
  },
  {
   "cell_type": "markdown",
   "metadata": {},
   "source": [
    "## 3. XGBoost ile model performansını artırma\n",
    "\n",
    "Temel olarak XGBoost ile nasıl regresyon ve sınıflandırma modelleri oluşturulacağını gördük. Artık modelimizin kalitesini artıracak yöntemlere bakabiliriz.\n",
    "\n",
    "## 3.1. XGBoost ile Çapraz Doğrulama\n",
    "Çapraz doğrulama için XGBoost'un içerisinde yer alan cv fonksiyonunu kullanabileceğimiz gibi sklearn içerisinde yer alan cross_val_score fonksiyonunu da kullanabiliriz.\n",
    "\n",
    "Çapraz doğrulama ile Ortalama Mutlak Hata (MAE) ve Kök Ortalama Kare Hata (RMSE) değerlerine odaklanalım."
   ]
  },
  {
   "cell_type": "code",
   "execution_count": 74,
   "metadata": {},
   "outputs": [
    {
     "name": "stdout",
     "output_type": "stream",
     "text": [
      "[21:34:11] WARNING: C:/Jenkins/workspace/xgboost-win64_release_0.90/src/objective/regression_obj.cu:152: reg:linear is now deprecated in favor of reg:squarederror.\n",
      "[21:34:11] WARNING: C:/Jenkins/workspace/xgboost-win64_release_0.90/src/objective/regression_obj.cu:152: reg:linear is now deprecated in favor of reg:squarederror.\n",
      "[21:34:11] WARNING: C:/Jenkins/workspace/xgboost-win64_release_0.90/src/objective/regression_obj.cu:152: reg:linear is now deprecated in favor of reg:squarederror.\n"
     ]
    },
    {
     "data": {
      "text/html": [
       "<div>\n",
       "<style scoped>\n",
       "    .dataframe tbody tr th:only-of-type {\n",
       "        vertical-align: middle;\n",
       "    }\n",
       "\n",
       "    .dataframe tbody tr th {\n",
       "        vertical-align: top;\n",
       "    }\n",
       "\n",
       "    .dataframe thead th {\n",
       "        text-align: right;\n",
       "    }\n",
       "</style>\n",
       "<table border=\"1\" class=\"dataframe\">\n",
       "  <thead>\n",
       "    <tr style=\"text-align: right;\">\n",
       "      <th></th>\n",
       "      <th>train-rmse-mean</th>\n",
       "      <th>train-rmse-std</th>\n",
       "      <th>test-rmse-mean</th>\n",
       "      <th>test-rmse-std</th>\n",
       "    </tr>\n",
       "  </thead>\n",
       "  <tbody>\n",
       "    <tr>\n",
       "      <th>99</th>\n",
       "      <td>0.429942</td>\n",
       "      <td>0.002344</td>\n",
       "      <td>0.430812</td>\n",
       "      <td>0.004979</td>\n",
       "    </tr>\n",
       "    <tr>\n",
       "      <th>98</th>\n",
       "      <td>0.430032</td>\n",
       "      <td>0.002345</td>\n",
       "      <td>0.430902</td>\n",
       "      <td>0.004981</td>\n",
       "    </tr>\n",
       "    <tr>\n",
       "      <th>97</th>\n",
       "      <td>0.430125</td>\n",
       "      <td>0.002347</td>\n",
       "      <td>0.430992</td>\n",
       "      <td>0.004984</td>\n",
       "    </tr>\n",
       "    <tr>\n",
       "      <th>96</th>\n",
       "      <td>0.430217</td>\n",
       "      <td>0.002348</td>\n",
       "      <td>0.431082</td>\n",
       "      <td>0.004986</td>\n",
       "    </tr>\n",
       "    <tr>\n",
       "      <th>95</th>\n",
       "      <td>0.430310</td>\n",
       "      <td>0.002350</td>\n",
       "      <td>0.431174</td>\n",
       "      <td>0.004989</td>\n",
       "    </tr>\n",
       "    <tr>\n",
       "      <th>94</th>\n",
       "      <td>0.430404</td>\n",
       "      <td>0.002352</td>\n",
       "      <td>0.431266</td>\n",
       "      <td>0.004991</td>\n",
       "    </tr>\n",
       "    <tr>\n",
       "      <th>93</th>\n",
       "      <td>0.430499</td>\n",
       "      <td>0.002353</td>\n",
       "      <td>0.431359</td>\n",
       "      <td>0.004993</td>\n",
       "    </tr>\n",
       "    <tr>\n",
       "      <th>92</th>\n",
       "      <td>0.430595</td>\n",
       "      <td>0.002355</td>\n",
       "      <td>0.431453</td>\n",
       "      <td>0.004996</td>\n",
       "    </tr>\n",
       "    <tr>\n",
       "      <th>91</th>\n",
       "      <td>0.430691</td>\n",
       "      <td>0.002357</td>\n",
       "      <td>0.431547</td>\n",
       "      <td>0.004998</td>\n",
       "    </tr>\n",
       "    <tr>\n",
       "      <th>90</th>\n",
       "      <td>0.430789</td>\n",
       "      <td>0.002358</td>\n",
       "      <td>0.431642</td>\n",
       "      <td>0.005000</td>\n",
       "    </tr>\n",
       "  </tbody>\n",
       "</table>\n",
       "</div>"
      ],
      "text/plain": [
       "    train-rmse-mean  train-rmse-std  test-rmse-mean  test-rmse-std\n",
       "99         0.429942        0.002344        0.430812       0.004979\n",
       "98         0.430032        0.002345        0.430902       0.004981\n",
       "97         0.430125        0.002347        0.430992       0.004984\n",
       "96         0.430217        0.002348        0.431082       0.004986\n",
       "95         0.430310        0.002350        0.431174       0.004989\n",
       "94         0.430404        0.002352        0.431266       0.004991\n",
       "93         0.430499        0.002353        0.431359       0.004993\n",
       "92         0.430595        0.002355        0.431453       0.004996\n",
       "91         0.430691        0.002357        0.431547       0.004998\n",
       "90         0.430789        0.002358        0.431642       0.005000"
      ]
     },
     "metadata": {},
     "output_type": "display_data"
    }
   ],
   "source": [
    "df2_cv = xgb.cv(dtrain=wine_dmatrix, params=params, nfold=3, \n",
    "                    num_boost_round=100, metrics=\"rmse\", as_pandas=True, seed=123, early_stopping_rounds = 5)\n",
    "\n",
    "display(df2_cv.sort_values(by='test-rmse-mean').head(10))"
   ]
  },
  {
   "cell_type": "markdown",
   "metadata": {},
   "source": [
    "RMSE değeri 99. iterasyonda 0.430812'ye indi.\n",
    "\n",
    "#### metrics parametresini \"mae\" olarak değiştirerek modelin ortalama mutlak hata değerini öğrenebiliriz.\n"
   ]
  },
  {
   "cell_type": "code",
   "execution_count": 73,
   "metadata": {},
   "outputs": [
    {
     "name": "stdout",
     "output_type": "stream",
     "text": [
      "[21:33:38] WARNING: C:/Jenkins/workspace/xgboost-win64_release_0.90/src/objective/regression_obj.cu:152: reg:linear is now deprecated in favor of reg:squarederror.\n",
      "[21:33:38] WARNING: C:/Jenkins/workspace/xgboost-win64_release_0.90/src/objective/regression_obj.cu:152: reg:linear is now deprecated in favor of reg:squarederror.\n",
      "[21:33:38] WARNING: C:/Jenkins/workspace/xgboost-win64_release_0.90/src/objective/regression_obj.cu:152: reg:linear is now deprecated in favor of reg:squarederror.\n"
     ]
    },
    {
     "data": {
      "text/html": [
       "<div>\n",
       "<style scoped>\n",
       "    .dataframe tbody tr th:only-of-type {\n",
       "        vertical-align: middle;\n",
       "    }\n",
       "\n",
       "    .dataframe tbody tr th {\n",
       "        vertical-align: top;\n",
       "    }\n",
       "\n",
       "    .dataframe thead th {\n",
       "        text-align: right;\n",
       "    }\n",
       "</style>\n",
       "<table border=\"1\" class=\"dataframe\">\n",
       "  <thead>\n",
       "    <tr style=\"text-align: right;\">\n",
       "      <th></th>\n",
       "      <th>train-mae-mean</th>\n",
       "      <th>train-mae-std</th>\n",
       "      <th>test-mae-mean</th>\n",
       "      <th>test-mae-std</th>\n",
       "    </tr>\n",
       "  </thead>\n",
       "  <tbody>\n",
       "    <tr>\n",
       "      <th>99</th>\n",
       "      <td>0.378935</td>\n",
       "      <td>0.004048</td>\n",
       "      <td>0.379770</td>\n",
       "      <td>0.004606</td>\n",
       "    </tr>\n",
       "    <tr>\n",
       "      <th>98</th>\n",
       "      <td>0.379083</td>\n",
       "      <td>0.004051</td>\n",
       "      <td>0.379915</td>\n",
       "      <td>0.004602</td>\n",
       "    </tr>\n",
       "    <tr>\n",
       "      <th>97</th>\n",
       "      <td>0.379232</td>\n",
       "      <td>0.004055</td>\n",
       "      <td>0.380061</td>\n",
       "      <td>0.004597</td>\n",
       "    </tr>\n",
       "    <tr>\n",
       "      <th>96</th>\n",
       "      <td>0.379383</td>\n",
       "      <td>0.004059</td>\n",
       "      <td>0.380210</td>\n",
       "      <td>0.004593</td>\n",
       "    </tr>\n",
       "    <tr>\n",
       "      <th>95</th>\n",
       "      <td>0.379536</td>\n",
       "      <td>0.004062</td>\n",
       "      <td>0.380361</td>\n",
       "      <td>0.004588</td>\n",
       "    </tr>\n",
       "    <tr>\n",
       "      <th>94</th>\n",
       "      <td>0.379692</td>\n",
       "      <td>0.004066</td>\n",
       "      <td>0.380515</td>\n",
       "      <td>0.004584</td>\n",
       "    </tr>\n",
       "    <tr>\n",
       "      <th>93</th>\n",
       "      <td>0.379850</td>\n",
       "      <td>0.004069</td>\n",
       "      <td>0.380671</td>\n",
       "      <td>0.004580</td>\n",
       "    </tr>\n",
       "    <tr>\n",
       "      <th>92</th>\n",
       "      <td>0.380010</td>\n",
       "      <td>0.004073</td>\n",
       "      <td>0.380829</td>\n",
       "      <td>0.004576</td>\n",
       "    </tr>\n",
       "    <tr>\n",
       "      <th>91</th>\n",
       "      <td>0.380173</td>\n",
       "      <td>0.004076</td>\n",
       "      <td>0.380989</td>\n",
       "      <td>0.004571</td>\n",
       "    </tr>\n",
       "    <tr>\n",
       "      <th>90</th>\n",
       "      <td>0.380339</td>\n",
       "      <td>0.004079</td>\n",
       "      <td>0.381152</td>\n",
       "      <td>0.004566</td>\n",
       "    </tr>\n",
       "  </tbody>\n",
       "</table>\n",
       "</div>"
      ],
      "text/plain": [
       "    train-mae-mean  train-mae-std  test-mae-mean  test-mae-std\n",
       "99        0.378935       0.004048       0.379770      0.004606\n",
       "98        0.379083       0.004051       0.379915      0.004602\n",
       "97        0.379232       0.004055       0.380061      0.004597\n",
       "96        0.379383       0.004059       0.380210      0.004593\n",
       "95        0.379536       0.004062       0.380361      0.004588\n",
       "94        0.379692       0.004066       0.380515      0.004584\n",
       "93        0.379850       0.004069       0.380671      0.004580\n",
       "92        0.380010       0.004073       0.380829      0.004576\n",
       "91        0.380173       0.004076       0.380989      0.004571\n",
       "90        0.380339       0.004079       0.381152      0.004566"
      ]
     },
     "metadata": {},
     "output_type": "display_data"
    }
   ],
   "source": [
    "df2_cv = xgb.cv(dtrain=wine_dmatrix, params=params, nfold=3, \n",
    "                    num_boost_round=100, metrics=\"mae\", as_pandas=True, seed=123, early_stopping_rounds = 5)\n",
    "\n",
    "display(df2_cv.sort_values(by='test-mae-mean').head(10))"
   ]
  },
  {
   "cell_type": "markdown",
   "metadata": {},
   "source": [
    "## 3.2. XGBoost ile Regularizasyon\n",
    "\n",
    "XBoost'da regularizasyon için çoğunlukla aşağıdaki parametreleri kullanmaktayız:\n",
    "\n",
    "**gamma** : Ağaçların bölünmesi esnasında izin verilen maksimum kayıp azalması. Büyük değerler olduğu takdirde daha az dallanma olacaktır.\n",
    "\n",
    "**alpha** : Daha önceki lineer modellerde de gördüğümüz dalların ağırlıklarının l1 regularizasyonu. Büyük değerler daha fazla regularizasyon anlamına gelmektedir. Bu durumda bir çok ağacın ağırlığı 0 olmaktadır.\n",
    "\n",
    "**lambda**: Dalların ağırlıklarının l2 regularizasyonu. l1 regularizasyonuna göre daha yumuşaktır.\n",
    "L1 regularizasyonuna bakalım. alpha değerleri için bir liste oluşturup bir döngü ile tüm değerleri deneyelim. Herbir alpha değeri için RMSE değerlerini bir listeye atalım. params sözlüğü içinde alpha değeri bulunmuyordu. Döngü içerisinde sırasıyla listedeki alpha değerlerini parametrelere ekleyip, çapraz doğrulama modelimizi eğiteceğiz."
   ]
  },
  {
   "cell_type": "code",
   "execution_count": 75,
   "metadata": {},
   "outputs": [],
   "source": [
    "l1_params = np.arange(0.01, 0.2, 0.01)\n",
    "\n",
    "params = {\"objective\":\"reg:linear\",\"max_depth\":3, \"silent\":1}\n",
    "\n",
    "rmses_l1 = []\n",
    "for alpha in l1_params:\n",
    "    params[\"alpha\"] = alpha\n",
    "    cv_rmse = xgb.cv(dtrain=wine_dmatrix, params=params, nfold=4, num_boost_round=100, \n",
    "                             metrics=\"rmse\", as_pandas=True, early_stopping_rounds=10, seed=123)\n",
    "    rmses_l1.append(cv_rmse[\"test-rmse-mean\"].tail(1).values[0])"
   ]
  },
  {
   "cell_type": "code",
   "execution_count": 76,
   "metadata": {},
   "outputs": [
    {
     "name": "stdout",
     "output_type": "stream",
     "text": [
      "En iyi l1 değerleri:\n"
     ]
    },
    {
     "data": {
      "text/html": [
       "<div>\n",
       "<style scoped>\n",
       "    .dataframe tbody tr th:only-of-type {\n",
       "        vertical-align: middle;\n",
       "    }\n",
       "\n",
       "    .dataframe tbody tr th {\n",
       "        vertical-align: top;\n",
       "    }\n",
       "\n",
       "    .dataframe thead th {\n",
       "        text-align: right;\n",
       "    }\n",
       "</style>\n",
       "<table border=\"1\" class=\"dataframe\">\n",
       "  <thead>\n",
       "    <tr style=\"text-align: right;\">\n",
       "      <th></th>\n",
       "      <th>l1</th>\n",
       "      <th>rmse</th>\n",
       "    </tr>\n",
       "  </thead>\n",
       "  <tbody>\n",
       "    <tr>\n",
       "      <th>0</th>\n",
       "      <td>0.01</td>\n",
       "      <td>0.388006</td>\n",
       "    </tr>\n",
       "    <tr>\n",
       "      <th>4</th>\n",
       "      <td>0.05</td>\n",
       "      <td>0.388311</td>\n",
       "    </tr>\n",
       "    <tr>\n",
       "      <th>15</th>\n",
       "      <td>0.16</td>\n",
       "      <td>0.388379</td>\n",
       "    </tr>\n",
       "    <tr>\n",
       "      <th>1</th>\n",
       "      <td>0.02</td>\n",
       "      <td>0.388426</td>\n",
       "    </tr>\n",
       "    <tr>\n",
       "      <th>5</th>\n",
       "      <td>0.06</td>\n",
       "      <td>0.388500</td>\n",
       "    </tr>\n",
       "  </tbody>\n",
       "</table>\n",
       "</div>"
      ],
      "text/plain": [
       "      l1      rmse\n",
       "0   0.01  0.388006\n",
       "4   0.05  0.388311\n",
       "15  0.16  0.388379\n",
       "1   0.02  0.388426\n",
       "5   0.06  0.388500"
      ]
     },
     "metadata": {},
     "output_type": "display_data"
    }
   ],
   "source": [
    "print(\"En iyi l1 değerleri:\")\n",
    "en_iyi_degerler = pd.DataFrame(list(zip(l1_params, rmses_l1)), columns=[\"l1\", \"rmse\"])\n",
    "display(en_iyi_degerler.sort_values('rmse').head())"
   ]
  },
  {
   "cell_type": "code",
   "execution_count": 77,
   "metadata": {},
   "outputs": [],
   "source": [
    "gamma_listesi = [0.1, 1, 10, 100]\n",
    "\n",
    "params = {\"objective\":\"reg:linear\",\"max_depth\":3, \"silent\":1}\n",
    "\n",
    "rmses_l1 = []\n",
    "for gamma in l1_params:\n",
    "    params[\"gamma\"] = gamma\n",
    "    cv_rmse = xgb.cv(dtrain=wine_dmatrix, params=params, nfold=4, num_boost_round=100, \n",
    "                             metrics=\"rmse\", as_pandas=True, early_stopping_rounds=10, seed=123)\n",
    "    rmses_l1.append(cv_rmse[\"test-rmse-mean\"].tail(1).values[0])"
   ]
  },
  {
   "cell_type": "code",
   "execution_count": 78,
   "metadata": {},
   "outputs": [
    {
     "name": "stdout",
     "output_type": "stream",
     "text": [
      "En iyi l1 değerleri:\n"
     ]
    },
    {
     "data": {
      "text/html": [
       "<div>\n",
       "<style scoped>\n",
       "    .dataframe tbody tr th:only-of-type {\n",
       "        vertical-align: middle;\n",
       "    }\n",
       "\n",
       "    .dataframe tbody tr th {\n",
       "        vertical-align: top;\n",
       "    }\n",
       "\n",
       "    .dataframe thead th {\n",
       "        text-align: right;\n",
       "    }\n",
       "</style>\n",
       "<table border=\"1\" class=\"dataframe\">\n",
       "  <thead>\n",
       "    <tr style=\"text-align: right;\">\n",
       "      <th></th>\n",
       "      <th>l1</th>\n",
       "      <th>rmse</th>\n",
       "    </tr>\n",
       "  </thead>\n",
       "  <tbody>\n",
       "    <tr>\n",
       "      <th>6</th>\n",
       "      <td>0.07</td>\n",
       "      <td>0.388549</td>\n",
       "    </tr>\n",
       "    <tr>\n",
       "      <th>2</th>\n",
       "      <td>0.03</td>\n",
       "      <td>0.388822</td>\n",
       "    </tr>\n",
       "    <tr>\n",
       "      <th>17</th>\n",
       "      <td>0.18</td>\n",
       "      <td>0.389137</td>\n",
       "    </tr>\n",
       "    <tr>\n",
       "      <th>8</th>\n",
       "      <td>0.09</td>\n",
       "      <td>0.389152</td>\n",
       "    </tr>\n",
       "    <tr>\n",
       "      <th>7</th>\n",
       "      <td>0.08</td>\n",
       "      <td>0.389275</td>\n",
       "    </tr>\n",
       "  </tbody>\n",
       "</table>\n",
       "</div>"
      ],
      "text/plain": [
       "      l1      rmse\n",
       "6   0.07  0.388549\n",
       "2   0.03  0.388822\n",
       "17  0.18  0.389137\n",
       "8   0.09  0.389152\n",
       "7   0.08  0.389275"
      ]
     },
     "metadata": {},
     "output_type": "display_data"
    }
   ],
   "source": [
    "print(\"En iyi l1 değerleri:\")\n",
    "en_iyi_degerler = pd.DataFrame(list(zip(l1_params, rmses_l1)), columns=[\"l1\", \"rmse\"])\n",
    "display(en_iyi_degerler.sort_values('rmse').head())"
   ]
  },
  {
   "cell_type": "markdown",
   "metadata": {},
   "source": [
    "## 3.3. Hiperparametre Ayarlama \n",
    "\n",
    "\n",
    "Bütün makine öğrenimi modellerinde olduğu gibi XGBoost'da da hiperparametre ayarlaması modelin performansını oldukça etkilemektedir. Hatta XGBoost'da diğer algoritmalara nazaran daha çok parametre bulunmaktadır. Modelin kullanacağı parametreleri bir sözlük içerisinde belirttiğimizi görmüştük. Modeli oluşturuken bu sözlüğe daha fazla değişken tanımlayarak parametre ayarlaması yapabiliriz.\n",
    "\n",
    "Modelin boosting için kaç iterasyon yapacağını num_boost_round değişkeni ile belirleyebiliyoruz. Ancak early_stopping_rounds parametresi ile belirleyeceğimiz iterasyon sayısınca metriklerde gelişme olmazsa iterasyonları otomatik olarak durdurabiliriz.\n",
    "\n",
    "Ayarlama yapabileceğimiz bazı parametreler şunlardır:\n",
    "\n",
    "**learning_rate** : Modelin öğrenme oranı yani hatayı azaltma oranı. Küçük öğrenme oranları daha fazla iterasyon gerektirir.\n",
    "\n",
    "**gamma, alpha, lambda** : Yukarıda bahsettiğimiz regülarizasyon parametreleri.\n",
    "\n",
    "**max_depth** : Her bir ağaç için maksimum derinlik.\n",
    "\n",
    "**subsample** : Modeldeki verilerin bir ağacın eğitimi için kullanılacak oranı. 0 ila 1 arasında bir değerdir. Büyük değerler overfittinge yol açabilir.\n",
    "\n",
    "**colsample_bytree** : Her ağaç için kullanılacak değişken oranı. Bir regularizasyon sayılabilir. Büyük değerler fazla değişkenli modellerden dolayı overfittinge yol açabilir.\n",
    "\n",
    "**min_child_weight** : Bir dalın minimum ağırlık değeri. Düşük değerler underfittinge yol açabilir.\n",
    "\n",
    "Yukarıdaki örnekte regularizasyon yaparken yaptığımız gibi deneyeceğimiz parametreleri bir listeye ekleyip, bir döngü ile en başarılı parametreleri bulabiliriz. Ya da bunun yerine sklearn kütüphanesindeki GridSearchCV ve RandomSearchCV fonksiyonlarını da kullanabiliriz.\n",
    "\n",
    "Modelimizin değişkenlerinin önem derecesini plot_importance fonksiyonu sayesinde grafik ahalinde kolaylıkla görebiliyoruz. Bunun için bir model oluşturup en önemli değerlere bakalım."
   ]
  },
  {
   "cell_type": "code",
   "execution_count": 79,
   "metadata": {},
   "outputs": [
    {
     "data": {
      "image/png": "[encoded data removed]",
      "text/plain": [
       "<Figure size 1440x576 with 1 Axes>"
      ]
     },
     "metadata": {
      "needs_background": "light"
     },
     "output_type": "display_data"
    }
   ],
   "source": [
    "\n",
    "en_iyi_parametreler = {'objective':'reg:linear',\n",
    "                       'colsample_bytree': 0.7, \n",
    "                       'gamma': 0.1, \n",
    "                       'learning_rate': 0.3, \n",
    "                       'max_depth': 3, \n",
    "                       'min_child_weight': 3, \n",
    "                       'n_estimators': 50,\n",
    "                       'silent':1\n",
    "                      }\n",
    "\n",
    "wine_modeli = xgb.train(params=en_iyi_parametreler, dtrain=wine_dmatrix, num_boost_round=10)\n",
    "\n",
    "ax = xgb.plot_importance(wine_modeli)\n",
    "ax.figure.set_size_inches(20,8)\n",
    "plt.show()"
   ]
  },
  {
   "cell_type": "markdown",
   "metadata": {},
   "source": [
    "XGBoost'un görselleştirme olarak sunduğu araçlardan biri de plot_tree() fonksiyonudur. Bu fonksiyonu kullanarak ağaçları ve dalları görebiliriz.\n"
   ]
  },
  {
   "cell_type": "code",
   "execution_count": 81,
   "metadata": {},
   "outputs": [
    {
     "data": {
      "image/png": "[encoded data removed]",
      "text/plain": [
       "<Figure size 2160x2160 with 1 Axes>"
      ]
     },
     "metadata": {
      "needs_background": "light"
     },
     "output_type": "display_data"
    }
   ],
   "source": [
    "ax1 = xgb.plot_tree(wine_modeli, num_trees=4)\n",
    "ax1.figure.set_size_inches(30,30)\n",
    "plt.show()"
   ]
  },
  {
   "cell_type": "code",
   "execution_count": null,
   "metadata": {},
   "outputs": [],
   "source": []
  }
 ],
 "metadata": {
  "kernelspec": {
   "display_name": "Python 3",
   "language": "python",
   "name": "python3"
  },
  "language_info": {
   "codemirror_mode": {
    "name": "ipython",
    "version": 3
   },
   "file_extension": ".py",
   "mimetype": "text/x-python",
   "name": "python",
   "nbconvert_exporter": "python",
   "pygments_lexer": "ipython3",
   "version": "3.7.1"
  }
 },
 "nbformat": 4,
 "nbformat_minor": 2
}
