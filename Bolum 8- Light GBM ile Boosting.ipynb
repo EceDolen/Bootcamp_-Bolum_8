{
 "cells": [
  {
   "cell_type": "markdown",
   "metadata": {},
   "source": [
    "# <div align='center'> **Light GBM**\n",
    "\n",
    "Microsoft tarafından geliştirilmiş, makine öğrenimi yarışmalarında iyi sonuçlar alan bir başka ağaç tabanlı boosting yöntemidir. En önemli özellikleri olarak :\n",
    "\n",
    "# 1. Light GBM ile Sınıflandırma\n",
    "Modelleri hızlı eğitmesi\n",
    "Düşük hafıza kullanımı\n",
    "Yüksek doğruluk\n",
    "GPU ve Paralel işlemci kullanabilme\n",
    "Büyük verilerle çalışabilme öne çıkmaktadır.\n",
    "Diğer boosting yöntemlerinde ağaç seviye seviye yatay olarak büyürken, Light GBM'de ağaç dikey olarak büyümekte yani büyümek için dallardan birini seçmekte ve bundan sonra bu dal üzerinden gitmektedir. Bu dal tamamlandıktan sonra üst seviyelere geri dönerek diğer dallardan devam etmektedir."
   ]
  },
  {
   "cell_type": "code",
   "execution_count": 10,
   "metadata": {},
   "outputs": [],
   "source": [
    "import pandas as pd\n",
    "import numpy as np \n",
    "import matplotlib.pyplot as plt"
   ]
  },
  {
   "cell_type": "code",
   "execution_count": 11,
   "metadata": {},
   "outputs": [
    {
     "data": {
      "text/html": [
       "<div>\n",
       "<style scoped>\n",
       "    .dataframe tbody tr th:only-of-type {\n",
       "        vertical-align: middle;\n",
       "    }\n",
       "\n",
       "    .dataframe tbody tr th {\n",
       "        vertical-align: top;\n",
       "    }\n",
       "\n",
       "    .dataframe thead th {\n",
       "        text-align: right;\n",
       "    }\n",
       "</style>\n",
       "<table border=\"1\" class=\"dataframe\">\n",
       "  <thead>\n",
       "    <tr style=\"text-align: right;\">\n",
       "      <th></th>\n",
       "      <th>Unnamed: 0</th>\n",
       "      <th>type</th>\n",
       "      <th>fixed_acidity</th>\n",
       "      <th>volatile_acidity</th>\n",
       "      <th>citric_acid</th>\n",
       "      <th>residual_sugar</th>\n",
       "      <th>chlorides</th>\n",
       "      <th>free_sulfur_dioxide</th>\n",
       "      <th>total_sulfur_dioxide</th>\n",
       "      <th>density</th>\n",
       "      <th>pH</th>\n",
       "      <th>sulphates</th>\n",
       "      <th>alcohol</th>\n",
       "      <th>quality_range</th>\n",
       "    </tr>\n",
       "  </thead>\n",
       "  <tbody>\n",
       "    <tr>\n",
       "      <th>0</th>\n",
       "      <td>0</td>\n",
       "      <td>1</td>\n",
       "      <td>7.0</td>\n",
       "      <td>0.27</td>\n",
       "      <td>0.36</td>\n",
       "      <td>17.2</td>\n",
       "      <td>0.045</td>\n",
       "      <td>45.0</td>\n",
       "      <td>170.0</td>\n",
       "      <td>1.001</td>\n",
       "      <td>3.0</td>\n",
       "      <td>0.45</td>\n",
       "      <td>8.8</td>\n",
       "      <td>1</td>\n",
       "    </tr>\n",
       "  </tbody>\n",
       "</table>\n",
       "</div>"
      ],
      "text/plain": [
       "   Unnamed: 0  type  fixed_acidity  volatile_acidity  citric_acid  \\\n",
       "0           0     1            7.0              0.27         0.36   \n",
       "\n",
       "   residual_sugar  chlorides  free_sulfur_dioxide  total_sulfur_dioxide  \\\n",
       "0            17.2      0.045                 45.0                 170.0   \n",
       "\n",
       "   density   pH  sulphates  alcohol  quality_range  \n",
       "0    1.001  3.0       0.45      8.8              1  "
      ]
     },
     "execution_count": 11,
     "metadata": {},
     "output_type": "execute_result"
    }
   ],
   "source": [
    "dfwine = pd.read_csv('data/wine.csv')\n",
    "dfwine.type = dfwine.type.map({'white':1, 'red':0}) \n",
    "dfwine.head(1)"
   ]
  },
  {
   "cell_type": "code",
   "execution_count": 19,
   "metadata": {},
   "outputs": [],
   "source": [
    "X = dfwine.drop('quality_range', axis=1)\n",
    "y = dfwine.quality_range\n",
    "\n",
    "\n",
    "from sklearn.model_selection import train_test_split\n",
    "X_train, X_test, y_train, y_test = train_test_split(X, y, test_size = 0.25, random_state = 40)"
   ]
  },
  {
   "cell_type": "code",
   "execution_count": 20,
   "metadata": {},
   "outputs": [],
   "source": [
    "#!pip install lightgbm "
   ]
  },
  {
   "cell_type": "code",
   "execution_count": 21,
   "metadata": {},
   "outputs": [],
   "source": [
    "import lightgbm as lgb"
   ]
  },
  {
   "cell_type": "code",
   "execution_count": 22,
   "metadata": {},
   "outputs": [],
   "source": [
    "#Eğitim verilerini modelde eğitmeden önce LightGBM veri formatına çevirmemiz gerekiyor.\n",
    "\n",
    "y_train = lgb.Dataset(X_train, label=y_train)"
   ]
  },
  {
   "cell_type": "code",
   "execution_count": 23,
   "metadata": {},
   "outputs": [],
   "source": [
    "#Modelimizde kullanacağımız parametreleri belirleyelim.\n",
    "\n",
    "params = {'boosting_type' : 'gbdt',\n",
    "          'objective' : 'binary',\n",
    "          'metric' : 'binary_logloss',\n",
    "          'sub_feature' : 0.5,\n",
    "          'num_leaves' :  10,\n",
    "          'min_data' : 50,\n",
    "          'max_depth' : 10}"
   ]
  },
  {
   "cell_type": "code",
   "execution_count": 24,
   "metadata": {},
   "outputs": [],
   "source": [
    "#Modelin egitimi\n",
    "\n",
    "lgb_model = lgb.train(params, y_train, num_boost_round=100)"
   ]
  },
  {
   "cell_type": "code",
   "execution_count": 25,
   "metadata": {},
   "outputs": [
    {
     "data": {
      "text/plain": [
       "array([0.87850276, 0.48804065, 0.64531489, 0.68192614, 0.62478472,\n",
       "       0.07823955, 0.31320693, 0.35185877, 0.78286318, 0.70354059])"
      ]
     },
     "execution_count": 25,
     "metadata": {},
     "output_type": "execute_result"
    }
   ],
   "source": [
    "#predict fonksiyonu ile test kümesindeki verilerle tahmin yapabiliriz.\n",
    "\n",
    "y_tahmin=lgb_model.predict(X_test)\n",
    "y_tahmin[:10]"
   ]
  },
  {
   "cell_type": "code",
   "execution_count": 26,
   "metadata": {},
   "outputs": [
    {
     "data": {
      "text/plain": [
       "[1, 0, 1, 1, 1, 0, 0, 0, 1, 1]"
      ]
     },
     "execution_count": 26,
     "metadata": {},
     "output_type": "execute_result"
    }
   ],
   "source": [
    "#predict fonksiyonu önceki makine öğrenme algoritmalarından farklı olarak tahmin değeri yerine tahmin ihtimalini vermektedir. Yani predict_proba ile aldığımız sonucu döndürmektedir. Bir eşik seviyesi beirleyerek, bu değerleri tahminlere çevirelim.\n",
    "\n",
    "y_tahmin = [0 if tahmin < 0.5 else 1 for tahmin in y_tahmin]\n",
    "y_tahmin[:10]"
   ]
  },
  {
   "cell_type": "code",
   "execution_count": 27,
   "metadata": {},
   "outputs": [
    {
     "data": {
      "text/plain": [
       "0.7747692307692308"
      ]
     },
     "execution_count": 27,
     "metadata": {},
     "output_type": "execute_result"
    }
   ],
   "source": [
    "from sklearn.metrics import accuracy_score\n",
    "\n",
    "\n",
    "dogruluk=accuracy_score(y_tahmin,y_test)\n",
    "dogruluk\n"
   ]
  },
  {
   "cell_type": "markdown",
   "metadata": {},
   "source": [
    "# 2. Light GBM ile Regresyon"
   ]
  },
  {
   "cell_type": "code",
   "execution_count": 28,
   "metadata": {},
   "outputs": [],
   "source": [
    "import xgboost as xgb\n",
    "from sklearn.metrics import mean_squared_error\n"
   ]
  },
  {
   "cell_type": "code",
   "execution_count": 33,
   "metadata": {},
   "outputs": [
    {
     "data": {
      "text/html": [
       "<div>\n",
       "<style scoped>\n",
       "    .dataframe tbody tr th:only-of-type {\n",
       "        vertical-align: middle;\n",
       "    }\n",
       "\n",
       "    .dataframe tbody tr th {\n",
       "        vertical-align: top;\n",
       "    }\n",
       "\n",
       "    .dataframe thead th {\n",
       "        text-align: right;\n",
       "    }\n",
       "</style>\n",
       "<table border=\"1\" class=\"dataframe\">\n",
       "  <thead>\n",
       "    <tr style=\"text-align: right;\">\n",
       "      <th></th>\n",
       "      <th>Unnamed: 0</th>\n",
       "      <th>Year</th>\n",
       "      <th>Life_Expectancy</th>\n",
       "      <th>Adult_Mortality</th>\n",
       "      <th>infant_deaths</th>\n",
       "      <th>Alcohol</th>\n",
       "      <th>percentage_expenditure</th>\n",
       "      <th>Hepatitis_B</th>\n",
       "      <th>Measles</th>\n",
       "      <th>BMI</th>\n",
       "      <th>under_five_deaths</th>\n",
       "      <th>Polio</th>\n",
       "      <th>Total_Expenditure</th>\n",
       "      <th>Diphtheria</th>\n",
       "      <th>HIV/AIDS</th>\n",
       "      <th>GDP</th>\n",
       "      <th>thinness_1_19_years</th>\n",
       "      <th>thinness_5_9_years</th>\n",
       "      <th>Income_composition_of_resources</th>\n",
       "      <th>Schooling</th>\n",
       "    </tr>\n",
       "  </thead>\n",
       "  <tbody>\n",
       "    <tr>\n",
       "      <th>0</th>\n",
       "      <td>0</td>\n",
       "      <td>2015</td>\n",
       "      <td>65.0</td>\n",
       "      <td>263.0</td>\n",
       "      <td>62</td>\n",
       "      <td>0.01</td>\n",
       "      <td>71.279624</td>\n",
       "      <td>65.0</td>\n",
       "      <td>1154</td>\n",
       "      <td>19.1</td>\n",
       "      <td>83</td>\n",
       "      <td>6.0</td>\n",
       "      <td>8.16</td>\n",
       "      <td>65.0</td>\n",
       "      <td>0.1</td>\n",
       "      <td>584.25921</td>\n",
       "      <td>16.6</td>\n",
       "      <td>6.9</td>\n",
       "      <td>0.479</td>\n",
       "      <td>10.1</td>\n",
       "    </tr>\n",
       "  </tbody>\n",
       "</table>\n",
       "</div>"
      ],
      "text/plain": [
       "   Unnamed: 0  Year  Life_Expectancy  Adult_Mortality  infant_deaths  Alcohol  \\\n",
       "0           0  2015             65.0            263.0             62     0.01   \n",
       "\n",
       "   percentage_expenditure  Hepatitis_B  Measles   BMI  under_five_deaths  \\\n",
       "0               71.279624         65.0     1154  19.1                 83   \n",
       "\n",
       "   Polio  Total_Expenditure  Diphtheria  HIV/AIDS        GDP  \\\n",
       "0    6.0               8.16        65.0       0.1  584.25921   \n",
       "\n",
       "   thinness_1_19_years  thinness_5_9_years  Income_composition_of_resources  \\\n",
       "0                 16.6                 6.9                            0.479   \n",
       "\n",
       "   Schooling  \n",
       "0       10.1  "
      ]
     },
     "execution_count": 33,
     "metadata": {},
     "output_type": "execute_result"
    }
   ],
   "source": [
    "df_life_Exp = pd.read_csv('data/LifeExpectancy.csv')\n",
    "df_life_Exp.head(1)"
   ]
  },
  {
   "cell_type": "code",
   "execution_count": 34,
   "metadata": {},
   "outputs": [],
   "source": [
    "X = df_life_Exp.drop('Life_Expectancy', axis=1)\n",
    "y = df_life_Exp.Life_Expectancy\n",
    "\n",
    "\n",
    "X_train, X_test, y_train, y_test = train_test_split(X, y, test_size = 0.25, random_state = 0)"
   ]
  },
  {
   "cell_type": "code",
   "execution_count": 35,
   "metadata": {},
   "outputs": [],
   "source": [
    "#Veriyi eğitmeden önce Light GBM veri yapısına çeviriyoruz.\n",
    "\n",
    "d_train = lgb.Dataset(X_train, label=y_train)"
   ]
  },
  {
   "cell_type": "code",
   "execution_count": 36,
   "metadata": {},
   "outputs": [],
   "source": [
    "#Modeli eğitirken kullanacağımız parametreleri belirliyoruz.\n",
    "\n",
    "params = {\n",
    "    'boosting_type': 'gbdt',\n",
    "    'objective': 'regression',\n",
    "    'metric': 'rmsle',\n",
    "    'max_depth': 6, \n",
    "    'learning_rate': 0.1,\n",
    "    'verbose': 0}\n",
    "n_estimators = 100"
   ]
  },
  {
   "cell_type": "code",
   "execution_count": 37,
   "metadata": {},
   "outputs": [],
   "source": [
    "lgb_reg_model = lgb.train(params, d_train, num_boost_round = 100)\n",
    "\n",
    "y_tahmin = lgb_reg_model.predict(X_test)\n",
    "\n",
    "y_tahmin_train = lgb_reg_model.predict(X_train)\n"
   ]
  },
  {
   "cell_type": "code",
   "execution_count": 38,
   "metadata": {},
   "outputs": [
    {
     "name": "stdout",
     "output_type": "stream",
     "text": [
      "RMSE: 2.012667\n"
     ]
    }
   ],
   "source": [
    "rmse = np.sqrt(mean_squared_error(y_test, y_tahmin))\n",
    "print(\"RMSE: %f\" % (rmse))"
   ]
  },
  {
   "cell_type": "code",
   "execution_count": 39,
   "metadata": {},
   "outputs": [
    {
     "data": {
      "image/png": "[encoded data removed]",
      "text/plain": [
       "<Figure size 720x720 with 1 Axes>"
      ]
     },
     "metadata": {
      "needs_background": "light"
     },
     "output_type": "display_data"
    }
   ],
   "source": [
    "plt.figure(figsize=(10,10))\n",
    "plt.title('Gerçek Değerler & Tahminler\\n', size = 14)\n",
    "ax1 = plt.scatter(y_test, y_tahmin)\n",
    "ax2 = plt.scatter(y_train, y_tahmin_train,alpha=0.30)\n",
    "ax3 = plt.plot(y_test, y_test, color=\"red\")\n",
    "plt.legend((ax1, ax2), ('Test Kümesi', 'Eğitim Kümesi'))\n",
    "plt.xlabel(\"Gerçek Değerler\")\n",
    "plt.ylabel(\"Tahminler\")\n",
    "plt.show()"
   ]
  },
  {
   "cell_type": "markdown",
   "metadata": {},
   "source": [
    "# 3. Light GBM ile Model Performansını Artırma\n",
    "\n",
    "Light GBM ile oluşturduğumuz modelin performansını artırmak için hiperparametre ayarlaması yapmalıyız. Ayarlama yapabileceğimiz bazı parametreler şunlardır:\n",
    "\n",
    "**max_depth** : Her bir ağaç için maksimum derinlik. 3-10 arası değerler uygundur. Overfitting olduğu takdirde bu değeri düşürmekle başlanabilir.\n",
    "\n",
    "**min_data_in_leaf** : Her bir daldaki minimumu gözlem sayısı. Overfittingi önlemek için kullanılır.\n",
    "\n",
    "**learning_rate : Modelin öğrenme oranı yani hatayı azaltma oranı. Küçük öğrenme oranları daha fazla iterasyon gerektirir. Genellikle 0.01 ile 0.2 arasında uygundur.\n",
    "\n",
    "min_child_weight : Bir dalın minimum ağırlık değeri. Overfittingi kontrol etmek için kullanılır.\n",
    "\n",
    "lambda_l1, lambda_l2 : Modelin regülarizasyon parametreleri.\n",
    "\n",
    "bagging_fraction : Modeldeki verilerin bir ağacın eğitimi için kullanılacak oranı. 0 ila 1 arasında bir değerdir. Büyük değerler overfittinge yol açabilir.\n",
    "\n",
    "feature_fraction : Her ağaç için kullanılacak değişken oranı. Bir regularizasyon sayılabilir. Büyük değerler fazla değişkenli modellerden dolayı overfittinge yol açabilir.\n",
    "\n",
    "XGBoost'da olduğu gibi modelin boosting için kaç iterasyon yapacağını num_boost_round değişkeni ile belirleyebiliyor ve early_stopping_rounds parametresi sonlandırabiliyoruz.\n",
    "\n",
    "Ayarlamak istediğimiz parametreleri bir listeye ekleyip, bir döngü ile en başarılı parametreleri bulabileceğimiz gibi sklearn kütüphanesindeki GridSearchCV ve RandomSearchCV fonksiyonlarını da kullanabiliriz."
   ]
  },
  {
   "cell_type": "code",
   "execution_count": null,
   "metadata": {},
   "outputs": [],
   "source": []
  },
  {
   "cell_type": "code",
   "execution_count": null,
   "metadata": {},
   "outputs": [],
   "source": []
  },
  {
   "cell_type": "code",
   "execution_count": null,
   "metadata": {},
   "outputs": [],
   "source": []
  },
  {
   "cell_type": "code",
   "execution_count": null,
   "metadata": {},
   "outputs": [],
   "source": []
  }
 ],
 "metadata": {
  "kernelspec": {
   "display_name": "Python 3",
   "language": "python",
   "name": "python3"
  },
  "language_info": {
   "codemirror_mode": {
    "name": "ipython",
    "version": 3
   },
   "file_extension": ".py",
   "mimetype": "text/x-python",
   "name": "python",
   "nbconvert_exporter": "python",
   "pygments_lexer": "ipython3",
   "version": "3.7.1"
  }
 },
 "nbformat": 4,
 "nbformat_minor": 2
}
